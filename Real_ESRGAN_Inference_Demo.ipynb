{
  "nbformat": 4,
  "nbformat_minor": 0,
  "metadata": {
    "colab": {
      "name": "Real-ESRGAN Inference Demo.ipynb",
      "provenance": [],
      "collapsed_sections": [],
      "include_colab_link": true
    },
    "kernelspec": {
      "name": "python3",
      "display_name": "Python 3"
    },
    "language_info": {
      "name": "python"
    },
    "accelerator": "GPU"
  },
  "cells": [
    {
      "cell_type": "markdown",
      "metadata": {
        "id": "view-in-github",
        "colab_type": "text"
      },
      "source": [
        "<a href=\"https://colab.research.google.com/github/DamnCrab/Real-ESRGAN-Inference-Demo/blob/main/Real_ESRGAN_Inference_Demo.ipynb\" target=\"_parent\"><img src=\"https://colab.research.google.com/assets/colab-badge.svg\" alt=\"Open In Colab\"/></a>"
      ]
    },
    {
      "cell_type": "markdown",
      "metadata": {
        "id": "IRDbDYYMQt_Y"
      },
      "source": [
        "# Real-ESRGAN Inference Demo\n",
        "\n",
        "[![arXiv](https://img.shields.io/badge/arXiv-Paper-<COLOR>.svg)](https://arxiv.org/abs/2107.10833)\n",
        "[![GitHub Stars](https://img.shields.io/github/stars/xinntao/Real-ESRGAN?style=social)](https://github.com/xinntao/Real-ESRGAN)\n",
        "[![download](https://img.shields.io/github/downloads/xinntao/Real-ESRGAN/total.svg)](https://github.com/xinntao/Real-ESRGAN/releases)\n",
        "\n",
        "This is a **Practical Image Restoration Demo** of our paper [''Real-ESRGAN: Training Real-World Blind Super-Resolution with Pure Synthetic Data''](https://arxiv.org/abs/2107.10833).\n",
        "We extend the powerful ESRGAN to a practical restoration application (namely, Real-ESRGAN), which is trained with pure synthetic data. <br>\n",
        "The following figure shows some real-life examples.\n",
        "\n",
        "<img src=\"https://raw.githubusercontent.com/xinntao/Real-ESRGAN/master/assets/teaser.jpg\" width=\"100%\">\n",
        "\n",
        "We provide a pretrained model (*RealESRGAN_x4plus.pth*) with upsampling X4.<br>\n",
        "**Note that RealESRGAN may still fail in some cases as the real-world degradations are really too complex.**<br>\n",
        "Moreover, it **may not** perform well on **human faces, text**, *etc*, which will be optimized later.\n",
        "<br>\n",
        "\n",
        "You can also find a **Portable Windows/Linux/MacOS executable files for Intel/AMD/Nvidia GPU.** in our [GitHub repo](https://github.com/xinntao/Real-ESRGAN). <br>\n",
        "This executable file is **portable** and includes all the binaries and models required. No CUDA or PyTorch environment is needed.<br>\n",
        "This executable file is based on the wonderful [Tencent/ncnn](https://github.com/Tencent/ncnn) and [realsr-ncnn-vulkan](https://github.com/nihui/realsr-ncnn-vulkan) by [nihui](https://github.com/nihui)."
      ]
    },
    {
      "cell_type": "markdown",
      "metadata": {
        "id": "6BPxh_VmVVIu"
      },
      "source": [
        "# 1. Preparations\n",
        "Before start, make sure that you choose\n",
        "* Runtime Type = Python 3\n",
        "* Hardware Accelerator = GPU\n",
        "\n",
        "in the **Runtime** menu -> **Change runtime type**\n",
        "\n",
        "Then, we clone the repository, set up the envrironment, and download the pre-trained model."
      ]
    },
    {
      "cell_type": "markdown",
      "metadata": {
        "id": "4ySdy5UYeQxy"
      },
      "source": [
        "1.1 显卡检测和系统资源监控"
      ]
    },
    {
      "cell_type": "code",
      "metadata": {
        "id": "Da9vOSsxrYuL",
        "colab": {
          "base_uri": "https://localhost:8080/",
          "height": 1000
        },
        "outputId": "5c6d8ab6-6339-41b7-a77a-bf1686eb0171"
      },
      "source": [
        "#检测使用的显卡\n",
        "! /opt/bin/nvidia-smi\n",
        "! nvcc --version\n",
        "\n",
        "#注册https://wandb.ai/authorize 填api 获得实时监控网址\n",
        "!pip install wandb\n",
        "import wandb\n",
        "wandb.init()"
      ],
      "execution_count": 1,
      "outputs": [
        {
          "output_type": "stream",
          "text": [
            "/bin/bash: /opt/bin/nvidia-smi: No such file or directory\n",
            "nvcc: NVIDIA (R) Cuda compiler driver\n",
            "Copyright (c) 2005-2020 NVIDIA Corporation\n",
            "Built on Wed_Jul_22_19:09:09_PDT_2020\n",
            "Cuda compilation tools, release 11.0, V11.0.221\n",
            "Build cuda_11.0_bu.TC445_37.28845127_0\n",
            "Collecting wandb\n",
            "  Downloading wandb-0.11.2-py2.py3-none-any.whl (1.8 MB)\n",
            "\u001b[K     |████████████████████████████████| 1.8 MB 7.3 MB/s \n",
            "\u001b[?25hCollecting docker-pycreds>=0.4.0\n",
            "  Downloading docker_pycreds-0.4.0-py2.py3-none-any.whl (9.0 kB)\n",
            "Requirement already satisfied: protobuf>=3.12.0 in /usr/local/lib/python3.7/dist-packages (from wandb) (3.17.3)\n",
            "Collecting urllib3>=1.26.5\n",
            "  Downloading urllib3-1.26.6-py2.py3-none-any.whl (138 kB)\n",
            "\u001b[K     |████████████████████████████████| 138 kB 49.7 MB/s \n",
            "\u001b[?25hRequirement already satisfied: promise<3,>=2.0 in /usr/local/lib/python3.7/dist-packages (from wandb) (2.3)\n",
            "Collecting subprocess32>=3.5.3\n",
            "  Downloading subprocess32-3.5.4.tar.gz (97 kB)\n",
            "\u001b[K     |████████████████████████████████| 97 kB 7.8 MB/s \n",
            "\u001b[?25hCollecting configparser>=3.8.1\n",
            "  Downloading configparser-5.0.2-py3-none-any.whl (19 kB)\n",
            "Requirement already satisfied: PyYAML in /usr/local/lib/python3.7/dist-packages (from wandb) (3.13)\n",
            "Requirement already satisfied: python-dateutil>=2.6.1 in /usr/local/lib/python3.7/dist-packages (from wandb) (2.8.1)\n",
            "Collecting shortuuid>=0.5.0\n",
            "  Downloading shortuuid-1.0.1-py3-none-any.whl (7.5 kB)\n",
            "Requirement already satisfied: six>=1.13.0 in /usr/local/lib/python3.7/dist-packages (from wandb) (1.15.0)\n",
            "Collecting sentry-sdk>=1.0.0\n",
            "  Downloading sentry_sdk-1.3.1-py2.py3-none-any.whl (133 kB)\n",
            "\u001b[K     |████████████████████████████████| 133 kB 54.1 MB/s \n",
            "\u001b[?25hCollecting pathtools\n",
            "  Downloading pathtools-0.1.2.tar.gz (11 kB)\n",
            "Requirement already satisfied: requests<3,>=2.0.0 in /usr/local/lib/python3.7/dist-packages (from wandb) (2.23.0)\n",
            "Collecting GitPython>=1.0.0\n",
            "  Downloading GitPython-3.1.18-py3-none-any.whl (170 kB)\n",
            "\u001b[K     |████████████████████████████████| 170 kB 51.1 MB/s \n",
            "\u001b[?25hRequirement already satisfied: psutil>=5.0.0 in /usr/local/lib/python3.7/dist-packages (from wandb) (5.4.8)\n",
            "Requirement already satisfied: Click!=8.0.0,>=7.0 in /usr/local/lib/python3.7/dist-packages (from wandb) (7.1.2)\n",
            "Collecting gitdb<5,>=4.0.1\n",
            "  Downloading gitdb-4.0.7-py3-none-any.whl (63 kB)\n",
            "\u001b[K     |████████████████████████████████| 63 kB 2.1 MB/s \n",
            "\u001b[?25hRequirement already satisfied: typing-extensions>=3.7.4.0 in /usr/local/lib/python3.7/dist-packages (from GitPython>=1.0.0->wandb) (3.7.4.3)\n",
            "Collecting smmap<5,>=3.0.1\n",
            "  Downloading smmap-4.0.0-py2.py3-none-any.whl (24 kB)\n",
            "Requirement already satisfied: chardet<4,>=3.0.2 in /usr/local/lib/python3.7/dist-packages (from requests<3,>=2.0.0->wandb) (3.0.4)\n",
            "Requirement already satisfied: idna<3,>=2.5 in /usr/local/lib/python3.7/dist-packages (from requests<3,>=2.0.0->wandb) (2.10)\n",
            "Collecting requests<3,>=2.0.0\n",
            "  Downloading requests-2.26.0-py2.py3-none-any.whl (62 kB)\n",
            "\u001b[K     |████████████████████████████████| 62 kB 994 kB/s \n",
            "\u001b[?25hRequirement already satisfied: charset-normalizer~=2.0.0 in /usr/local/lib/python3.7/dist-packages (from requests<3,>=2.0.0->wandb) (2.0.2)\n",
            "Requirement already satisfied: certifi>=2017.4.17 in /usr/local/lib/python3.7/dist-packages (from requests<3,>=2.0.0->wandb) (2021.5.30)\n",
            "Building wheels for collected packages: subprocess32, pathtools\n",
            "  Building wheel for subprocess32 (setup.py) ... \u001b[?25l\u001b[?25hdone\n",
            "  Created wheel for subprocess32: filename=subprocess32-3.5.4-py3-none-any.whl size=6502 sha256=a46d4e12c6a32234cae2c55fc999ae5850063d1ad44bc64dcf8306c46e04613e\n",
            "  Stored in directory: /root/.cache/pip/wheels/50/ca/fa/8fca8d246e64f19488d07567547ddec8eb084e8c0d7a59226a\n",
            "  Building wheel for pathtools (setup.py) ... \u001b[?25l\u001b[?25hdone\n",
            "  Created wheel for pathtools: filename=pathtools-0.1.2-py3-none-any.whl size=8806 sha256=4d26b8f04155b5d537ee07da88951ed89301b1d20b52e7bfe54a573d76c2e962\n",
            "  Stored in directory: /root/.cache/pip/wheels/3e/31/09/fa59cef12cdcfecc627b3d24273699f390e71828921b2cbba2\n",
            "Successfully built subprocess32 pathtools\n",
            "Installing collected packages: smmap, urllib3, gitdb, subprocess32, shortuuid, sentry-sdk, requests, pathtools, GitPython, docker-pycreds, configparser, wandb\n",
            "  Attempting uninstall: urllib3\n",
            "    Found existing installation: urllib3 1.24.3\n",
            "    Uninstalling urllib3-1.24.3:\n",
            "      Successfully uninstalled urllib3-1.24.3\n",
            "  Attempting uninstall: requests\n",
            "    Found existing installation: requests 2.23.0\n",
            "    Uninstalling requests-2.23.0:\n",
            "      Successfully uninstalled requests-2.23.0\n",
            "\u001b[31mERROR: pip's dependency resolver does not currently take into account all the packages that are installed. This behaviour is the source of the following dependency conflicts.\n",
            "google-colab 1.0.0 requires requests~=2.23.0, but you have requests 2.26.0 which is incompatible.\n",
            "datascience 0.10.6 requires folium==0.2.1, but you have folium 0.8.3 which is incompatible.\u001b[0m\n",
            "Successfully installed GitPython-3.1.18 configparser-5.0.2 docker-pycreds-0.4.0 gitdb-4.0.7 pathtools-0.1.2 requests-2.26.0 sentry-sdk-1.3.1 shortuuid-1.0.1 smmap-4.0.0 subprocess32-3.5.4 urllib3-1.26.6 wandb-0.11.2\n"
          ],
          "name": "stdout"
        },
        {
          "output_type": "display_data",
          "data": {
            "application/javascript": [
              "\n",
              "        window._wandbApiKey = new Promise((resolve, reject) => {\n",
              "            function loadScript(url) {\n",
              "            return new Promise(function(resolve, reject) {\n",
              "                let newScript = document.createElement(\"script\");\n",
              "                newScript.onerror = reject;\n",
              "                newScript.onload = resolve;\n",
              "                document.body.appendChild(newScript);\n",
              "                newScript.src = url;\n",
              "            });\n",
              "            }\n",
              "            loadScript(\"https://cdn.jsdelivr.net/npm/postmate/build/postmate.min.js\").then(() => {\n",
              "            const iframe = document.createElement('iframe')\n",
              "            iframe.style.cssText = \"width:0;height:0;border:none\"\n",
              "            document.body.appendChild(iframe)\n",
              "            const handshake = new Postmate({\n",
              "                container: iframe,\n",
              "                url: 'https://wandb.ai/authorize'\n",
              "            });\n",
              "            const timeout = setTimeout(() => reject(\"Couldn't auto authenticate\"), 5000)\n",
              "            handshake.then(function(child) {\n",
              "                child.on('authorize', data => {\n",
              "                    clearTimeout(timeout)\n",
              "                    resolve(data)\n",
              "                });\n",
              "            });\n",
              "            })\n",
              "        });\n",
              "    "
            ],
            "text/plain": [
              "<IPython.core.display.Javascript object>"
            ]
          },
          "metadata": {
            "tags": []
          }
        },
        {
          "output_type": "stream",
          "text": [
            "\u001b[34m\u001b[1mwandb\u001b[0m: You can find your API key in your browser here: https://wandb.ai/authorize\n"
          ],
          "name": "stderr"
        },
        {
          "output_type": "stream",
          "text": [
            "wandb: Paste an API key from your profile and hit enter: ··········\n"
          ],
          "name": "stdout"
        },
        {
          "output_type": "stream",
          "text": [
            "\u001b[34m\u001b[1mwandb\u001b[0m: Appending key for api.wandb.ai to your netrc file: /root/.netrc\n"
          ],
          "name": "stderr"
        },
        {
          "output_type": "display_data",
          "data": {
            "text/html": [
              "\n",
              "                Tracking run with wandb version 0.11.2<br/>\n",
              "                Syncing run <strong style=\"color:#cdcd00\">amber-paper-4</strong> to <a href=\"https://wandb.ai\" target=\"_blank\">Weights & Biases</a> <a href=\"https://docs.wandb.com/integrations/jupyter.html\" target=\"_blank\">(Documentation)</a>.<br/>\n",
              "                Project page: <a href=\"https://wandb.ai/crab/uncategorized\" target=\"_blank\">https://wandb.ai/crab/uncategorized</a><br/>\n",
              "                Run page: <a href=\"https://wandb.ai/crab/uncategorized/runs/306rsv5l\" target=\"_blank\">https://wandb.ai/crab/uncategorized/runs/306rsv5l</a><br/>\n",
              "                Run data is saved locally in <code>/content/wandb/run-20210804_112332-306rsv5l</code><br/><br/>\n",
              "            "
            ],
            "text/plain": [
              "<IPython.core.display.HTML object>"
            ]
          },
          "metadata": {
            "tags": []
          }
        },
        {
          "output_type": "execute_result",
          "data": {
            "text/plain": [
              "<wandb.sdk.wandb_run.Run at 0x7fe91219ea50>"
            ],
            "text/html": [
              "<h1>Run(306rsv5l)</h1><iframe src=\"https://wandb.ai/crab/uncategorized/runs/306rsv5l\" style=\"border:none;width:100%;height:400px\"></iframe>"
            ]
          },
          "metadata": {
            "tags": []
          },
          "execution_count": 1
        }
      ]
    },
    {
      "cell_type": "markdown",
      "metadata": {
        "id": "ZcJ3rtLgeV4f"
      },
      "source": [
        "1.2 完整FFmpeg安装 （可跳过 安装需要30min-40min 安装后可以使用硬件加速和10bit\n"
      ]
    },
    {
      "cell_type": "code",
      "metadata": {
        "id": "yVv8ffugcstL",
        "colab": {
          "base_uri": "https://localhost:8080/"
        },
        "outputId": "8d99c34b-0822-4909-b4b5-e09cb72aeac6"
      },
      "source": [
        "%cd /content\n",
        "!sudo apt install build-essential curl cmake \n",
        "!git clone https://github.com/DamnCrab/ffmpeg-build-script.git #凑合一下 反正能用\n",
        "#!git clone https://github.com/markus-perl/ffmpeg-build-script\n",
        "%cd ffmpeg-build-script \n",
        "#! ./build-ffmpeg -b --enable-gpl-and-non-free \n",
        "#%cd /content\n",
        "! ./build-ffmpeg --h \n",
        "! ./build-ffmpeg -b --enable-gpl-and-non-free --full-static\n",
        "! ./build-ffmpeg -c  \n",
        "\n",
        "##原项目 https://github.com/markus-perl/ffmpeg-build-script \n",
        "##使用原项目需要修改build-ffmpeg文件\n",
        "##1. 首行添加 \n",
        "## AUTOINSTALL=yes   （自动跳过确认\n",
        "## OSTYPE=linux-gnu\n",
        "##2. 637行删除libwebp的部分    （不兼容\n",
        "##3. 魔改685行 强行加入nvcc"
      ],
      "execution_count": 18,
      "outputs": [
        {
          "output_type": "stream",
          "text": [
            "/content\n",
            "Reading package lists... Done\n",
            "Building dependency tree       \n",
            "Reading state information... Done\n",
            "build-essential is already the newest version (12.4ubuntu1).\n",
            "cmake is already the newest version (3.10.2-1ubuntu2.18.04.1).\n",
            "curl is already the newest version (7.58.0-2ubuntu3.13).\n",
            "0 upgraded, 0 newly installed, 0 to remove and 40 not upgraded.\n",
            "Cloning into 'ffmpeg-build-script'...\n",
            "remote: Enumerating objects: 969, done.\u001b[K\n",
            "remote: Counting objects: 100% (102/102), done.\u001b[K\n",
            "remote: Compressing objects: 100% (66/66), done.\u001b[K\n",
            "remote: Total 969 (delta 61), reused 67 (delta 34), pack-reused 867\u001b[K\n",
            "Receiving objects: 100% (969/969), 308.66 KiB | 1.64 MiB/s, done.\n",
            "Resolving deltas: 100% (585/585), done.\n",
            "/content/ffmpeg-build-script\n",
            "ffmpeg-build-script v1.28\n",
            "=========================\n",
            "\n",
            "Usage: build-ffmpeg [OPTIONS]\n",
            "Options:\n",
            "  -h, --help                     Display usage information\n",
            "      --version                  Display version information\n",
            "  -b, --build                    Starts the build process\n",
            "      --enable-gpl-and-non-free  Enable GPL and non-free codecs  - https://ffmpeg.org/legal.html\n",
            "  -c, --cleanup                  Remove all working dirs\n",
            "      --full-static              Build a full static FFmpeg binary (eg. glibc, pthreads etc...) **only Linux**\n",
            "                                 Note: Because of the NSS (Name Service Switch), glibc does not recommend static links.\n",
            "\n",
            "ffmpeg-build-script v1.28\n",
            "=========================\n",
            "\n",
            "Using 2 make jobs simultaneously.\n",
            "With GPL and non-free codecs\n",
            "Start the build in full static mode.\n",
            "\n",
            "building pkg-config\n",
            "=======================\n",
            "Downloading https://pkgconfig.freedesktop.org/releases/pkg-config-0.29.2.tar.gz as pkg-config-0.29.2.tar.gz\n",
            "... Done\n",
            "Extracted pkg-config-0.29.2.tar.gz\n",
            "$ ./configure --silent --prefix=/content/ffmpeg-build-script/workspace --with-pc-path=/content/ffmpeg-build-script/workspace/lib/pkgconfig --with-internal-glib\n",
            "$ make -j 2\n",
            "$ make install\n",
            "\n",
            "building lv2\n",
            "=======================\n",
            "Downloading https://lv2plug.in/spec/lv2-1.18.2.tar.bz2 as lv2-1.18.2.tar.bz2\n",
            "... Done\n",
            "Extracted lv2-1.18.2.tar.bz2\n",
            "$ ./waf configure --prefix=/content/ffmpeg-build-script/workspace --lv2-user\n",
            "$ ./waf\n",
            "$ ./waf install\n",
            "\n",
            "building waflib\n",
            "=======================\n",
            "Downloading https://gitlab.com/drobilla/autowaf/-/archive/b600c928b221a001faeab7bd92786d0b25714bc8/autowaf-b600c928b221a001faeab7bd92786d0b25714bc8.tar.gz as autowaf.tar.gz\n",
            "... Done\n",
            "Extracted autowaf.tar.gz\n",
            "\n",
            "building serd\n",
            "=======================\n",
            "Downloading https://gitlab.com/drobilla/serd/-/archive/v0.30.10/serd-v0.30.10.tar.gz as serd-v0.30.10.tar.gz\n",
            "... Done\n",
            "Extracted serd-v0.30.10.tar.gz\n",
            "$ cp -r /content/ffmpeg-build-script/packages/autowaf/ansiterm.py /content/ffmpeg-build-script/packages/autowaf/Build.py /content/ffmpeg-build-script/packages/autowaf/ConfigSet.py /content/ffmpeg-build-script/packages/autowaf/Configure.py /content/ffmpeg-build-script/packages/autowaf/Context.py /content/ffmpeg-build-script/packages/autowaf/COPYING /content/ffmpeg-build-script/packages/autowaf/Errors.py /content/ffmpeg-build-script/packages/autowaf/extras /content/ffmpeg-build-script/packages/autowaf/fixpy2.py /content/ffmpeg-build-script/packages/autowaf/__init__.py /content/ffmpeg-build-script/packages/autowaf/Logs.py /content/ffmpeg-build-script/packages/autowaf/Node.py /content/ffmpeg-build-script/packages/autowaf/Options.py /content/ffmpeg-build-script/packages/autowaf/processor.py /content/ffmpeg-build-script/packages/autowaf/README.md /content/ffmpeg-build-script/packages/autowaf/Runner.py /content/ffmpeg-build-script/packages/autowaf/Scripting.py /content/ffmpeg-build-script/packages/autowaf/TaskGen.py /content/ffmpeg-build-script/packages/autowaf/Task.py /content/ffmpeg-build-script/packages/autowaf/Tools /content/ffmpeg-build-script/packages/autowaf/Utils.py /content/ffmpeg-build-script/packages/autowaf/waf /content/ffmpeg-build-script/packages/serd-v0.30.10/waflib/\n",
            "$ ./waf configure --prefix=/content/ffmpeg-build-script/workspace --static --no-shared --no-posix\n",
            "$ ./waf\n",
            "$ ./waf install\n",
            "\n",
            "building pcre\n",
            "=======================\n",
            "Downloading https://ftp.pcre.org/pub/pcre/pcre-8.44.tar.gz as pcre-8.44.tar.gz\n",
            "... Done\n",
            "Extracted pcre-8.44.tar.gz\n",
            "$ ./configure --prefix=/content/ffmpeg-build-script/workspace --disable-shared --enable-static\n",
            "$ make -j 2\n",
            "$ make install\n",
            "\n",
            "building sord\n",
            "=======================\n",
            "Downloading https://gitlab.com/drobilla/sord/-/archive/v0.16.8/sord-v0.16.8.tar.gz as sord-v0.16.8.tar.gz\n",
            "... Done\n",
            "Extracted sord-v0.16.8.tar.gz\n",
            "$ cp -r /content/ffmpeg-build-script/packages/autowaf/ansiterm.py /content/ffmpeg-build-script/packages/autowaf/Build.py /content/ffmpeg-build-script/packages/autowaf/ConfigSet.py /content/ffmpeg-build-script/packages/autowaf/Configure.py /content/ffmpeg-build-script/packages/autowaf/Context.py /content/ffmpeg-build-script/packages/autowaf/COPYING /content/ffmpeg-build-script/packages/autowaf/Errors.py /content/ffmpeg-build-script/packages/autowaf/extras /content/ffmpeg-build-script/packages/autowaf/fixpy2.py /content/ffmpeg-build-script/packages/autowaf/__init__.py /content/ffmpeg-build-script/packages/autowaf/Logs.py /content/ffmpeg-build-script/packages/autowaf/Node.py /content/ffmpeg-build-script/packages/autowaf/Options.py /content/ffmpeg-build-script/packages/autowaf/processor.py /content/ffmpeg-build-script/packages/autowaf/README.md /content/ffmpeg-build-script/packages/autowaf/Runner.py /content/ffmpeg-build-script/packages/autowaf/Scripting.py /content/ffmpeg-build-script/packages/autowaf/TaskGen.py /content/ffmpeg-build-script/packages/autowaf/Task.py /content/ffmpeg-build-script/packages/autowaf/Tools /content/ffmpeg-build-script/packages/autowaf/Utils.py /content/ffmpeg-build-script/packages/autowaf/waf /content/ffmpeg-build-script/packages/sord-v0.16.8/waflib/\n",
            "$ ./waf configure --prefix=/content/ffmpeg-build-script/workspace CFLAGS=-I/content/ffmpeg-build-script/workspace/include --static --no-shared --no-utils\n",
            "$ ./waf CFLAGS=-I/content/ffmpeg-build-script/workspace/include\n",
            "$ ./waf install\n",
            "\n",
            "building sratom\n",
            "=======================\n",
            "Downloading https://gitlab.com/lv2/sratom/-/archive/v0.6.8/sratom-v0.6.8.tar.gz as sratom-v0.6.8.tar.gz\n",
            "... Done\n",
            "Extracted sratom-v0.6.8.tar.gz\n",
            "$ cp -r /content/ffmpeg-build-script/packages/autowaf/ansiterm.py /content/ffmpeg-build-script/packages/autowaf/Build.py /content/ffmpeg-build-script/packages/autowaf/ConfigSet.py /content/ffmpeg-build-script/packages/autowaf/Configure.py /content/ffmpeg-build-script/packages/autowaf/Context.py /content/ffmpeg-build-script/packages/autowaf/COPYING /content/ffmpeg-build-script/packages/autowaf/Errors.py /content/ffmpeg-build-script/packages/autowaf/extras /content/ffmpeg-build-script/packages/autowaf/fixpy2.py /content/ffmpeg-build-script/packages/autowaf/__init__.py /content/ffmpeg-build-script/packages/autowaf/Logs.py /content/ffmpeg-build-script/packages/autowaf/Node.py /content/ffmpeg-build-script/packages/autowaf/Options.py /content/ffmpeg-build-script/packages/autowaf/processor.py /content/ffmpeg-build-script/packages/autowaf/README.md /content/ffmpeg-build-script/packages/autowaf/Runner.py /content/ffmpeg-build-script/packages/autowaf/Scripting.py /content/ffmpeg-build-script/packages/autowaf/TaskGen.py /content/ffmpeg-build-script/packages/autowaf/Task.py /content/ffmpeg-build-script/packages/autowaf/Tools /content/ffmpeg-build-script/packages/autowaf/Utils.py /content/ffmpeg-build-script/packages/autowaf/waf /content/ffmpeg-build-script/packages/sratom-v0.6.8/waflib/\n",
            "$ ./waf configure --prefix=/content/ffmpeg-build-script/workspace --static --no-shared\n",
            "$ ./waf\n",
            "$ ./waf install\n",
            "\n",
            "building lilv\n",
            "=======================\n",
            "Downloading https://gitlab.com/lv2/lilv/-/archive/v0.24.12/lilv-v0.24.12.tar.gz as lilv-v0.24.12.tar.gz\n",
            "... Done\n",
            "Extracted lilv-v0.24.12.tar.gz\n",
            "$ cp -r /content/ffmpeg-build-script/packages/autowaf/ansiterm.py /content/ffmpeg-build-script/packages/autowaf/Build.py /content/ffmpeg-build-script/packages/autowaf/ConfigSet.py /content/ffmpeg-build-script/packages/autowaf/Configure.py /content/ffmpeg-build-script/packages/autowaf/Context.py /content/ffmpeg-build-script/packages/autowaf/COPYING /content/ffmpeg-build-script/packages/autowaf/Errors.py /content/ffmpeg-build-script/packages/autowaf/extras /content/ffmpeg-build-script/packages/autowaf/fixpy2.py /content/ffmpeg-build-script/packages/autowaf/__init__.py /content/ffmpeg-build-script/packages/autowaf/Logs.py /content/ffmpeg-build-script/packages/autowaf/Node.py /content/ffmpeg-build-script/packages/autowaf/Options.py /content/ffmpeg-build-script/packages/autowaf/processor.py /content/ffmpeg-build-script/packages/autowaf/README.md /content/ffmpeg-build-script/packages/autowaf/Runner.py /content/ffmpeg-build-script/packages/autowaf/Scripting.py /content/ffmpeg-build-script/packages/autowaf/TaskGen.py /content/ffmpeg-build-script/packages/autowaf/Task.py /content/ffmpeg-build-script/packages/autowaf/Tools /content/ffmpeg-build-script/packages/autowaf/Utils.py /content/ffmpeg-build-script/packages/autowaf/waf /content/ffmpeg-build-script/packages/lilv-v0.24.12/waflib/\n",
            "$ ./waf configure --prefix=/content/ffmpeg-build-script/workspace --static --no-shared --no-utils\n",
            "$ ./waf\n",
            "$ ./waf install\n",
            "\n",
            "building yasm\n",
            "=======================\n",
            "Downloading https://github.com/yasm/yasm/releases/download/v1.3.0/yasm-1.3.0.tar.gz as yasm-1.3.0.tar.gz\n",
            "... Done\n",
            "Extracted yasm-1.3.0.tar.gz\n",
            "$ ./configure --prefix=/content/ffmpeg-build-script/workspace\n",
            "$ make -j 2\n",
            "$ make install\n",
            "\n",
            "building nasm\n",
            "=======================\n",
            "Downloading https://www.nasm.us/pub/nasm/releasebuilds/2.15.05/nasm-2.15.05.tar.xz as nasm-2.15.05.tar.xz\n",
            "... Done\n",
            "Extracted nasm-2.15.05.tar.xz\n",
            "$ ./configure --prefix=/content/ffmpeg-build-script/workspace --disable-shared --enable-static\n",
            "$ make -j 2\n",
            "$ make install\n",
            "\n",
            "building zlib\n",
            "=======================\n",
            "Downloading https://www.zlib.net/zlib-1.2.11.tar.gz as zlib-1.2.11.tar.gz\n",
            "... Done\n",
            "Extracted zlib-1.2.11.tar.gz\n",
            "$ ./configure --static --prefix=/content/ffmpeg-build-script/workspace\n",
            "$ make -j 2\n",
            "$ make install\n",
            "\n",
            "building openssl\n",
            "=======================\n",
            "Downloading https://www.openssl.org/source/openssl-1.1.1k.tar.gz as openssl-1.1.1k.tar.gz\n",
            "... Done\n",
            "Extracted openssl-1.1.1k.tar.gz\n",
            "$ ./config --prefix=/content/ffmpeg-build-script/workspace --openssldir=/content/ffmpeg-build-script/workspace --with-zlib-include=/content/ffmpeg-build-script/workspace/include/ --with-zlib-lib=/content/ffmpeg-build-script/workspace/lib no-shared zlib\n",
            "$ make -j 2\n",
            "$ make install_sw\n",
            "\n",
            "building svtav1\n",
            "=======================\n",
            "Downloading https://gitlab.com/AOMediaCodec/SVT-AV1/-/archive/master/SVT-AV1-master.tar.gz as SVT-AV1-master.tar.gz\n",
            "... Done\n",
            "Extracted SVT-AV1-master.tar.gz\n",
            "$ cmake -DCMAKE_INSTALL_PREFIX=/content/ffmpeg-build-script/workspace -DENABLE_SHARED=off -DBUILD_SHARED_LIBS=OFF ../.. -GUnix Makefiles -DCMAKE_BUILD_TYPE=Release\n",
            "$ make -j 2\n",
            "$ make install\n",
            "$ cp SvtAv1Enc.pc /content/ffmpeg-build-script/workspace/lib/pkgconfig/\n",
            "$ cp SvtAv1Dec.pc /content/ffmpeg-build-script/workspace/lib/pkgconfig/\n",
            "\n",
            "building x264\n",
            "=======================\n",
            "Downloading https://code.videolan.org/videolan/x264/-/archive/b684ebe04a6f80f8207a57940a1fa00e25274f81/x264-b684ebe04a6f80f8207a57940a1fa00e25274f81.tar.gz as x264-b684eb.tar.gz\n",
            "... Done\n",
            "Extracted x264-b684eb.tar.gz\n",
            "$ ./configure --prefix=/content/ffmpeg-build-script/workspace --enable-static --enable-pic CXXFLAGS=-fPIC\n",
            "$ make -j 2\n",
            "$ make install\n",
            "$ make install-lib-static\n",
            "\n",
            "building x265\n",
            "=======================\n",
            "Downloading https://github.com/videolan/x265/archive/Release_3.5.tar.gz as x265-3.5.tar.gz\n",
            "... Done\n",
            "Extracted x265-3.5.tar.gz\n",
            "$ cmake -DCMAKE_INSTALL_PREFIX=/content/ffmpeg-build-script/workspace -DENABLE_SHARED=off -DBUILD_SHARED_LIBS=OFF ../../source\n",
            "$ make -j 2\n",
            "$ make install\n",
            "\n",
            "building libvpx\n",
            "=======================\n",
            "Downloading https://github.com/webmproject/libvpx/archive/refs/tags/v1.10.0.tar.gz as libvpx-1.10.0.tar.gz\n",
            "... Done\n",
            "Extracted libvpx-1.10.0.tar.gz\n",
            "$ ./configure --prefix=/content/ffmpeg-build-script/workspace --disable-unit-tests --disable-shared --as=yasm --enable-vp9-highbitdepth\n",
            "$ make -j 2\n",
            "$ make install\n",
            "\n",
            "building xvidcore\n",
            "=======================\n",
            "Downloading https://downloads.xvid.com/downloads/xvidcore-1.3.7.tar.gz as xvidcore-1.3.7.tar.gz\n",
            "... Done\n",
            "Extracted xvidcore-1.3.7.tar.gz\n",
            "$ ./configure --prefix=/content/ffmpeg-build-script/workspace --disable-shared --enable-static\n",
            "$ make -j 2\n",
            "$ make install\n",
            "$ rm /content/ffmpeg-build-script/workspace/lib/libxvidcore.so /content/ffmpeg-build-script/workspace/lib/libxvidcore.so.4 /content/ffmpeg-build-script/workspace/lib/libxvidcore.so.4.3\n",
            "\n",
            "building vid_stab\n",
            "=======================\n",
            "Downloading https://github.com/georgmartius/vid.stab/archive/v1.1.0.tar.gz as vid.stab-1.1.0.tar.gz\n",
            "... Done\n",
            "Extracted vid.stab-1.1.0.tar.gz\n",
            "$ cmake -DBUILD_SHARED_LIBS=OFF -DCMAKE_INSTALL_PREFIX=/content/ffmpeg-build-script/workspace -DUSE_OMP=OFF -DENABLE_SHARED=off .\n",
            "$ make\n",
            "$ make install\n",
            "\n",
            "building av1\n",
            "=======================\n",
            "Downloading https://aomedia.googlesource.com/aom/+archive/c0f14141bd71414b004dccd66d48b27570299fa3.tar.gz as av1.tar.gz\n",
            "... Done\n",
            "Extracted av1.tar.gz\n",
            "$ cmake -DENABLE_TESTS=0 -DCMAKE_INSTALL_PREFIX=/content/ffmpeg-build-script/workspace -DCMAKE_INSTALL_LIBDIR=lib /content/ffmpeg-build-script/packages/av1\n",
            "$ make -j 2\n",
            "$ make install\n",
            "\n",
            "building opencore\n",
            "=======================\n",
            "Downloading https://deac-riga.dl.sourceforge.net/project/opencore-amr/opencore-amr/opencore-amr-0.1.5.tar.gz as opencore-amr-0.1.5.tar.gz\n",
            "... Done\n",
            "Extracted opencore-amr-0.1.5.tar.gz\n",
            "$ ./configure --prefix=/content/ffmpeg-build-script/workspace --disable-shared --enable-static\n",
            "$ make -j 2\n",
            "$ make install\n",
            "\n",
            "building lame\n",
            "=======================\n",
            "Downloading https://netcologne.dl.sourceforge.net/project/lame/lame/3.100/lame-3.100.tar.gz as lame-3.100.tar.gz\n",
            "... Done\n",
            "Extracted lame-3.100.tar.gz\n",
            "$ ./configure --prefix=/content/ffmpeg-build-script/workspace --disable-shared --enable-static\n",
            "$ make -j 2\n",
            "$ make install\n",
            "\n",
            "building opus\n",
            "=======================\n",
            "Downloading https://archive.mozilla.org/pub/opus/opus-1.3.1.tar.gz as opus-1.3.1.tar.gz\n",
            "... Done\n",
            "Extracted opus-1.3.1.tar.gz\n",
            "$ ./configure --prefix=/content/ffmpeg-build-script/workspace --disable-shared --enable-static\n",
            "$ make -j 2\n",
            "$ make install\n",
            "\n",
            "building libogg\n",
            "=======================\n",
            "Downloading https://ftp.osuosl.org/pub/xiph/releases/ogg/libogg-1.3.3.tar.gz as libogg-1.3.3.tar.gz\n",
            "... Done\n",
            "Extracted libogg-1.3.3.tar.gz\n",
            "$ ./configure --prefix=/content/ffmpeg-build-script/workspace --disable-shared --enable-static\n",
            "$ make -j 2\n",
            "$ make install\n",
            "\n",
            "building libvorbis\n",
            "=======================\n",
            "Downloading https://ftp.osuosl.org/pub/xiph/releases/vorbis/libvorbis-1.3.6.tar.gz as libvorbis-1.3.6.tar.gz\n",
            "... Done\n",
            "Extracted libvorbis-1.3.6.tar.gz\n",
            "$ ./configure --prefix=/content/ffmpeg-build-script/workspace --with-ogg-libraries=/content/ffmpeg-build-script/workspace/lib --with-ogg-includes=/content/ffmpeg-build-script/workspace/include/ --enable-static --disable-shared --disable-oggtest\n",
            "$ make -j 2\n",
            "$ make install\n",
            "\n",
            "building libtheora\n",
            "=======================\n",
            "Downloading https://ftp.osuosl.org/pub/xiph/releases/theora/libtheora-1.1.1.tar.gz as libtheora-1.1.1.tar.gz\n",
            "... Done\n",
            "Extracted libtheora-1.1.1.tar.gz\n",
            "$ ./configure --prefix=/content/ffmpeg-build-script/workspace --with-ogg-libraries=/content/ffmpeg-build-script/workspace/lib --with-ogg-includes=/content/ffmpeg-build-script/workspace/include/ --with-vorbis-libraries=/content/ffmpeg-build-script/workspace/lib --with-vorbis-includes=/content/ffmpeg-build-script/workspace/include/ --enable-static --disable-shared --disable-oggtest --disable-vorbistest --disable-examples --disable-asm --disable-spec\n",
            "$ make -j 2\n",
            "$ make install\n",
            "\n",
            "building fdk_aac\n",
            "=======================\n",
            "Downloading https://sourceforge.net/projects/opencore-amr/files/fdk-aac/fdk-aac-2.0.2.tar.gz/download?use_mirror=gigenet as fdk-aac-2.0.2.tar.gz\n",
            "... Done\n",
            "Extracted fdk-aac-2.0.2.tar.gz\n",
            "$ ./configure --prefix=/content/ffmpeg-build-script/workspace --disable-shared --enable-static --enable-pic\n",
            "$ make -j 2\n",
            "$ make install\n",
            "\n",
            "building libtiff\n",
            "=======================\n",
            "Downloading https://download.osgeo.org/libtiff/tiff-4.3.0.tar.gz as tiff-4.3.0.tar.gz\n",
            "... Done\n",
            "Extracted tiff-4.3.0.tar.gz\n",
            "$ ./configure --prefix=/content/ffmpeg-build-script/workspace --disable-shared --enable-static\n",
            "$ make -j 2\n",
            "$ make install\n",
            "\n",
            "building libpng\n",
            "=======================\n",
            "Downloading https://deac-riga.dl.sourceforge.net/project/libpng/libpng16/1.6.37/libpng-1.6.37.tar.gz as libpng-1.6.37.tar.gz\n",
            "... Done\n",
            "Extracted libpng-1.6.37.tar.gz\n",
            "$ ./configure --prefix=/content/ffmpeg-build-script/workspace --disable-shared --enable-static\n",
            "$ make -j 2\n",
            "$ make install\n",
            "\n",
            "building libsdl\n",
            "=======================\n",
            "Downloading https://www.libsdl.org/release/SDL2-2.0.14.tar.gz as SDL2-2.0.14.tar.gz\n",
            "... Done\n",
            "Extracted SDL2-2.0.14.tar.gz\n",
            "$ ./configure --prefix=/content/ffmpeg-build-script/workspace --disable-shared --enable-static\n",
            "$ make -j 2\n",
            "$ make install\n",
            "\n",
            "building srt\n",
            "=======================\n",
            "Downloading https://github.com/Haivision/srt/archive/v1.4.3.tar.gz as srt-1.4.3.tar.gz\n",
            "... Done\n",
            "Extracted srt-1.4.3.tar.gz\n",
            "$ cmake . -DCMAKE_INSTALL_PREFIX=/content/ffmpeg-build-script/workspace -DCMAKE_INSTALL_LIBDIR=lib -DCMAKE_INSTALL_BINDIR=bin -DCMAKE_INSTALL_INCLUDEDIR=include -DENABLE_SHARED=OFF -DENABLE_STATIC=ON -DENABLE_APPS=OFF -DUSE_STATIC_LIBSTDCXX=ON\n",
            "$ make install\n",
            "\n",
            "building nv-codec\n",
            "=======================\n",
            "Downloading https://github.com/FFmpeg/nv-codec-headers/releases/download/n11.0.10.1/nv-codec-headers-11.0.10.1.tar.gz as nv-codec-headers-11.0.10.1.tar.gz\n",
            "... Done\n",
            "Extracted nv-codec-headers-11.0.10.1.tar.gz\n",
            "$ make PREFIX=/content/ffmpeg-build-script/workspace\n",
            "$ make install PREFIX=/content/ffmpeg-build-script/workspace\n",
            "\n",
            "building ffmpeg\n",
            "=======================\n",
            "Downloading https://github.com/FFmpeg/FFmpeg/archive/refs/heads/release/4.4.tar.gz as FFmpeg-release-4.4.tar.gz\n",
            "... Done\n",
            "Extracted FFmpeg-release-4.4.tar.gz\n",
            "Unknown option \"\".\n",
            "See ./configure --help for available options.\n",
            "./build-ffmpeg: line 738: --extra-cflags=-I/content/ffmpeg-build-script/workspace/include -I/content/ffmpeg-build-script/workspace/include/lilv-0 -I/usr/local/cuda/include: No such file or directory\n",
            "$ make -j 2\n",
            "Makefile:2: ffbuild/config.mak: No such file or directory\n",
            "Makefile:40: /tools/Makefile: No such file or directory\n",
            "Makefile:41: /ffbuild/common.mak: No such file or directory\n",
            "Makefile:107: /libavutil/Makefile: No such file or directory\n",
            "Makefile:107: /ffbuild/library.mak: No such file or directory\n",
            "Makefile:109: /fftools/Makefile: No such file or directory\n",
            "Makefile:110: /doc/Makefile: No such file or directory\n",
            "Makefile:111: /doc/examples/Makefile: No such file or directory\n",
            "Makefile:177: /tests/Makefile: No such file or directory\n",
            "make: *** No rule to make target '/tests/Makefile'.  Stop.\n",
            "\n",
            "Failed to Execute make -j 2\n",
            "ffmpeg-build-script v1.28\n",
            "=========================\n",
            "\n",
            "Cleanup done.\n",
            "\n"
          ],
          "name": "stdout"
        }
      ]
    },
    {
      "cell_type": "code",
      "metadata": {
        "colab": {
          "base_uri": "https://localhost:8080/"
        },
        "id": "OpJwzUXk7qOI",
        "outputId": "2f2448cc-f3df-4277-d358-8de23976247f"
      },
      "source": [
        "%cd /content\n",
        "!rm -rf ffmpeg-build-script"
      ],
      "execution_count": 3,
      "outputs": [
        {
          "output_type": "stream",
          "text": [
            "/content\n"
          ],
          "name": "stdout"
        }
      ]
    },
    {
      "cell_type": "code",
      "metadata": {
        "colab": {
          "base_uri": "https://localhost:8080/"
        },
        "id": "OcDgCPzTaHuM",
        "outputId": "33c0a4e4-72d0-449a-f256-3082883f3d6b"
      },
      "source": [
        "!ffmpeg -version #安装成功应为ffmpeg version 3.4.8-0ubuntu0.2\n",
        "%shell ffmpeg -hwaccels -h #显示可用硬解"
      ],
      "execution_count": 7,
      "outputs": [
        {
          "output_type": "stream",
          "text": [
            "ffmpeg version 3.4.8-0ubuntu0.2 Copyright (c) 2000-2020 the FFmpeg developers\n",
            "built with gcc 7 (Ubuntu 7.5.0-3ubuntu1~18.04)\n",
            "configuration: --prefix=/usr --extra-version=0ubuntu0.2 --toolchain=hardened --libdir=/usr/lib/x86_64-linux-gnu --incdir=/usr/include/x86_64-linux-gnu --enable-gpl --disable-stripping --enable-avresample --enable-avisynth --enable-gnutls --enable-ladspa --enable-libass --enable-libbluray --enable-libbs2b --enable-libcaca --enable-libcdio --enable-libflite --enable-libfontconfig --enable-libfreetype --enable-libfribidi --enable-libgme --enable-libgsm --enable-libmp3lame --enable-libmysofa --enable-libopenjpeg --enable-libopenmpt --enable-libopus --enable-libpulse --enable-librubberband --enable-librsvg --enable-libshine --enable-libsnappy --enable-libsoxr --enable-libspeex --enable-libssh --enable-libtheora --enable-libtwolame --enable-libvorbis --enable-libvpx --enable-libwavpack --enable-libwebp --enable-libx265 --enable-libxml2 --enable-libxvid --enable-libzmq --enable-libzvbi --enable-omx --enable-openal --enable-opengl --enable-sdl2 --enable-libdc1394 --enable-libdrm --enable-libiec61883 --enable-chromaprint --enable-frei0r --enable-libopencv --enable-libx264 --enable-shared\n",
            "libavutil      55. 78.100 / 55. 78.100\n",
            "libavcodec     57.107.100 / 57.107.100\n",
            "libavformat    57. 83.100 / 57. 83.100\n",
            "libavdevice    57. 10.100 / 57. 10.100\n",
            "libavfilter     6.107.100 /  6.107.100\n",
            "libavresample   3.  7.  0 /  3.  7.  0\n",
            "libswscale      4.  8.100 /  4.  8.100\n",
            "libswresample   2.  9.100 /  2.  9.100\n",
            "libpostproc    54.  7.100 / 54.  7.100\n"
          ],
          "name": "stdout"
        }
      ]
    },
    {
      "cell_type": "markdown",
      "metadata": {
        "id": "E57St19SedR8"
      },
      "source": [
        "1.3 Real-ESRGAN下载"
      ]
    },
    {
      "cell_type": "code",
      "metadata": {
        "id": "GnpnrLfMV2jU"
      },
      "source": [
        "# Clone Real-ESRGAN and enter the Real-ESRGAN\n",
        "%cd /content\n",
        "!git clone https://github.com/xinntao/Real-ESRGAN.git\n",
        "%cd Real-ESRGAN\n",
        "# Set up the environment\n",
        "!pip install basicsr\n",
        "# !pip install -r requirements.txt\n",
        "# Download the pre-trained model\n",
        "!wget https://github.com/xinntao/Real-ESRGAN/releases/download/v0.1.0/RealESRGAN_x4plus.pth -P experiments/pretrained_models"
      ],
      "execution_count": null,
      "outputs": []
    },
    {
      "cell_type": "markdown",
      "metadata": {
        "id": "4pr9am3HWtvH"
      },
      "source": [
        "# 2. Upload Images\n",
        "\n",
        "Upload the images to be processed by Real-ESRGAN"
      ]
    },
    {
      "cell_type": "markdown",
      "metadata": {
        "id": "iDhBM-rYenjB"
      },
      "source": [
        "2.1 网页上传或者Drive上传 （建议Drive 网页上传经常会很慢"
      ]
    },
    {
      "cell_type": "code",
      "metadata": {
        "id": "u1tiyMZJW5td"
      },
      "source": [
        "#网页上传方式\n",
        "import os\n",
        "from google.colab import files\n",
        "import shutil\n",
        "\n",
        "upload_folder = 'upload'\n",
        "result_folder = 'results'\n",
        "\n",
        "if os.path.isdir(upload_folder):\n",
        "    shutil.rmtree(upload_folder)\n",
        "if os.path.isdir(result_folder):\n",
        "    shutil.rmtree(result_folder)\n",
        "os.mkdir(upload_folder)\n",
        "os.mkdir(result_folder)\n",
        "\n",
        "# upload images\n",
        "uploaded = files.upload()\n",
        "for filename in uploaded.keys():\n",
        "  dst_path = os.path.join(upload_folder, filename)\n",
        "  print(f'move {filename} to {dst_path}')\n",
        "  shutil.move(filename, dst_path)\n",
        "\n"
      ],
      "execution_count": null,
      "outputs": []
    },
    {
      "cell_type": "code",
      "metadata": {
        "id": "JN659fB_Jygy",
        "colab": {
          "base_uri": "https://localhost:8080/"
        },
        "outputId": "623eceb0-fe9b-4390-aa06-a57bd5be6f37"
      },
      "source": [
        "#Drive上传方式 需要授权\n",
        "from google.colab import drive\n",
        "drive.mount('/content/drive')"
      ],
      "execution_count": 2,
      "outputs": [
        {
          "output_type": "stream",
          "text": [
            "Mounted at /content/drive\n"
          ],
          "name": "stdout"
        }
      ]
    },
    {
      "cell_type": "code",
      "metadata": {
        "colab": {
          "base_uri": "https://localhost:8080/",
          "height": 35
        },
        "id": "1kDtTxDeeuub",
        "outputId": "b387ccea-bd8e-46a7-9144-44b643d4378b"
      },
      "source": [
        "import os\n",
        "from google.colab import files\n",
        "import shutil\n",
        "upload_folder = 'upload'\n",
        "result_folder = 'results'\n",
        "\n",
        "if os.path.isdir(upload_folder):\n",
        "    shutil.rmtree(upload_folder)\n",
        "if os.path.isdir(result_folder):\n",
        "    shutil.rmtree(result_folder)\n",
        "os.mkdir(upload_folder)\n",
        "os.mkdir(result_folder)\n",
        "\n",
        "filename='1.mkv' #填文件名########################################################################\n",
        "\n",
        "dst_path1 = os.path.join(\"/content/drive/MyDrive/\", filename)\n",
        "\n",
        "shutil.copy(dst_path1,\"/content/Real-ESRGAN/upload/\")\n",
        "\n",
        "\n"
      ],
      "execution_count": 3,
      "outputs": [
        {
          "output_type": "execute_result",
          "data": {
            "application/vnd.google.colaboratory.intrinsic+json": {
              "type": "string"
            },
            "text/plain": [
              "'/content/Real-ESRGAN/upload/1.mkv'"
            ]
          },
          "metadata": {
            "tags": []
          },
          "execution_count": 3
        }
      ]
    },
    {
      "cell_type": "code",
      "metadata": {
        "colab": {
          "base_uri": "https://localhost:8080/"
        },
        "id": "ufh8iNJGLX2s",
        "outputId": "724de80b-b0ba-41f7-ad40-ae04489031c2"
      },
      "source": [
        "# 检测输入文件FPS。\n",
        "tmp_path = os.path.join(\"/content/Real-ESRGAN/upload/\", filename)\n",
        "import cv2\n",
        "\n",
        "video = cv2.VideoCapture(tmp_path)\n",
        "\n",
        "fps = video.get(cv2.CAP_PROP_FPS)\n",
        "print(\"帧率: {0}\".format(fps))\n",
        "frame_num = video.get(cv2.CAP_PROP_FRAME_COUNT)\n",
        "print(\"帧数: {0}\".format(frame_num))\n",
        "\n",
        "#av1编码有bug 检测不到\n",
        "\n"
      ],
      "execution_count": 4,
      "outputs": [
        {
          "output_type": "stream",
          "text": [
            "帧率: 60.0\n",
            "帧数: 2395.0\n"
          ],
          "name": "stdout"
        }
      ]
    },
    {
      "cell_type": "code",
      "metadata": {
        "id": "UBk01XdalafQ"
      },
      "source": [
        "#更新ffmpeg  （PAA更新FFmpeg4 已废弃\n",
        "#!add-apt-repository ppa:jonathonf/ffmpeg-4 -y\n",
        "#!apt-get update\n",
        "#!apt-get install ffmpeg"
      ],
      "execution_count": null,
      "outputs": []
    },
    {
      "cell_type": "code",
      "metadata": {
        "id": "XV7uqPSai-Bg"
      },
      "source": [
        "%shell ffmpeg -i '/content/Real-ESRGAN/upload/{filename}' -codec copy -map 0 -f segment -segment_list out.csv -segment_frames 1000,2000,3000,4000,5000 out%03d.mkv"
      ],
      "execution_count": null,
      "outputs": []
    },
    {
      "cell_type": "code",
      "metadata": {
        "id": "M2sdb0nDuNfE"
      },
      "source": [
        "!apt-get install nodejs-dev node-gyp libssl1.0-dev\n",
        "!apt-get install npm\n",
        "!$ npm install --global ffmpeg-progressbar-cli\n"
      ],
      "execution_count": null,
      "outputs": []
    },
    {
      "cell_type": "code",
      "metadata": {
        "id": "ZcUm32NIvxKd"
      },
      "source": [
        "! npm install --global ffmpeg-progressbar-cli"
      ],
      "execution_count": null,
      "outputs": []
    },
    {
      "cell_type": "code",
      "metadata": {
        "id": "roXBGHCigMrQ"
      },
      "source": [
        "%shell ffprobe -v error -show_streams -print_format json '/content/Real-ESRGAN/upload/{filename}'  "
      ],
      "execution_count": null,
      "outputs": []
    },
    {
      "cell_type": "code",
      "metadata": {
        "id": "GEPBEgmO5-TG"
      },
      "source": [
        "!ffmpeg -h encoder=libx264"
      ],
      "execution_count": null,
      "outputs": []
    },
    {
      "cell_type": "code",
      "metadata": {
        "id": "Ddoa_Fss7tgl",
        "outputId": "c30de613-83bb-4311-be4b-9239047e9707",
        "colab": {
          "base_uri": "https://localhost:8080/"
        }
      },
      "source": [
        "!ffmpeg -h encoder=libx265"
      ],
      "execution_count": 23,
      "outputs": [
        {
          "output_type": "stream",
          "text": [
            "ffmpeg version 3.4.8-0ubuntu0.2 Copyright (c) 2000-2020 the FFmpeg developers\n",
            "  built with gcc 7 (Ubuntu 7.5.0-3ubuntu1~18.04)\n",
            "  configuration: --prefix=/usr --extra-version=0ubuntu0.2 --toolchain=hardened --libdir=/usr/lib/x86_64-linux-gnu --incdir=/usr/include/x86_64-linux-gnu --enable-gpl --disable-stripping --enable-avresample --enable-avisynth --enable-gnutls --enable-ladspa --enable-libass --enable-libbluray --enable-libbs2b --enable-libcaca --enable-libcdio --enable-libflite --enable-libfontconfig --enable-libfreetype --enable-libfribidi --enable-libgme --enable-libgsm --enable-libmp3lame --enable-libmysofa --enable-libopenjpeg --enable-libopenmpt --enable-libopus --enable-libpulse --enable-librubberband --enable-librsvg --enable-libshine --enable-libsnappy --enable-libsoxr --enable-libspeex --enable-libssh --enable-libtheora --enable-libtwolame --enable-libvorbis --enable-libvpx --enable-libwavpack --enable-libwebp --enable-libx265 --enable-libxml2 --enable-libxvid --enable-libzmq --enable-libzvbi --enable-omx --enable-openal --enable-opengl --enable-sdl2 --enable-libdc1394 --enable-libdrm --enable-libiec61883 --enable-chromaprint --enable-frei0r --enable-libopencv --enable-libx264 --enable-shared\n",
            "  libavutil      55. 78.100 / 55. 78.100\n",
            "  libavcodec     57.107.100 / 57.107.100\n",
            "  libavformat    57. 83.100 / 57. 83.100\n",
            "  libavdevice    57. 10.100 / 57. 10.100\n",
            "  libavfilter     6.107.100 /  6.107.100\n",
            "  libavresample   3.  7.  0 /  3.  7.  0\n",
            "  libswscale      4.  8.100 /  4.  8.100\n",
            "  libswresample   2.  9.100 /  2.  9.100\n",
            "  libpostproc    54.  7.100 / 54.  7.100\n",
            "Encoder libx265 [libx265 H.265 / HEVC]:\n",
            "    General capabilities: delay threads \n",
            "    Threading capabilities: auto\n",
            "    Supported pixel formats: yuv420p yuv422p yuv444p gbrp yuv420p10le yuv422p10le yuv444p10le gbrp10le yuv420p12le yuv422p12le yuv444p12le gbrp12le gray gray10le gray12le\n",
            "libx265 AVOptions:\n",
            "  -crf               <float>      E..V.... set the x265 crf (from -1 to FLT_MAX) (default -1)\n",
            "  -forced-idr        <boolean>    E..V.... if forcing keyframes, force them as IDR frames (default false)\n",
            "  -preset            <string>     E..V.... set the x265 preset\n",
            "  -tune              <string>     E..V.... set the x265 tune parameter\n",
            "  -x265-params       <string>     E..V.... set the x265 configuration using a :-separated list of key=value parameters\n",
            "\n"
          ],
          "name": "stdout"
        }
      ]
    },
    {
      "cell_type": "code",
      "metadata": {
        "id": "DFifvYctgYdH"
      },
      "source": [
        "%shell ffmpeg -codecs"
      ],
      "execution_count": null,
      "outputs": []
    },
    {
      "cell_type": "code",
      "metadata": {
        "id": "V2rmaBrIdyWQ"
      },
      "source": [
        "%shell ffmpeg -codecs | grep nv\n",
        "\n",
        "ffmpeg -h encoder=h264_nvenc"
      ],
      "execution_count": null,
      "outputs": []
    },
    {
      "cell_type": "code",
      "metadata": {
        "id": "noOVq7n0HEbr"
      },
      "source": [
        "#拆帧\n",
        "#filename='1.mkv'\n",
        "%shell rm -rf '/content/Real-ESRGAN/frame'\n",
        "%shell mkdir -p '/content/Real-ESRGAN/frame'\n",
        "%shell ffmpeg -hwaccel cuvid -i '/content/Real-ESRGAN/upload/{filename}' '/content/Real-ESRGAN/frame/%08d.png'\n"
      ],
      "execution_count": null,
      "outputs": []
    },
    {
      "cell_type": "markdown",
      "metadata": {
        "id": "rqiEtaOYXnrt"
      },
      "source": [
        "# 3. Inference \n"
      ]
    },
    {
      "cell_type": "code",
      "metadata": {
        "id": "XTVL4m_zXqBU"
      },
      "source": [
        "#超分\n",
        "# if it is out of memory, try to use the `--tile` option 爆显存调tile 现值100\n",
        "!python inference_realesrgan.py --model_path experiments/pretrained_models/RealESRGAN_x4plus.pth --input frame --scale 4 --half --tile 100"
      ],
      "execution_count": null,
      "outputs": []
    },
    {
      "cell_type": "markdown",
      "metadata": {
        "id": "nKH0syu9ZAwV"
      },
      "source": [
        "# 5. Download Results\n"
      ]
    },
    {
      "cell_type": "code",
      "metadata": {
        "id": "wP0UYg5MZsAZ"
      },
      "source": [
        "%shell mkdir -p '/content/Real-ESRGAN/output'"
      ],
      "execution_count": null,
      "outputs": []
    },
    {
      "cell_type": "code",
      "metadata": {
        "id": "qYyJBuwaZKSx"
      },
      "source": [
        "%shell ffmpeg -i '/content/Real-ESRGAN/results/%08d_out.png' -c:v libx265 -preset:v [ultrafast-placebo] -profile:v main -x265-params \"crf=[0-51]:ref=4:rd=3:no-rect=1:no-amp=1:b-intra=1:rdoq-level=2:limit-tu=4:me=3:subme=5:weightb=1:no-strong-intra-smoothing=1:psy-rd=2.0:psy-rdoq=1.0:no-open-gop=1:keyint=200:min-keyint=1:rc-lookahead=20:bframes=6:aq-mode=1:aq-strength=0.8:qg-size=8:cbqpoffs=-2:crqpoffs=-2:qcomp=0.65:deblock=-1:no-sao=1:range=limited:colorprim=1:transfer=1:colormatrix=1:repeat-headers=1\" -pix_fmt yuv420p /content/Real-ESRGAN/output/output.mp4"
      ],
      "execution_count": null,
      "outputs": []
    },
    {
      "cell_type": "code",
      "metadata": {
        "id": "6i1scU0OZXCb"
      },
      "source": [
        "'/content/Real-ESRGAN/upload/{filename}' '/content/Real-ESRGAN/frame/%08d.png'"
      ],
      "execution_count": null,
      "outputs": []
    },
    {
      "cell_type": "code",
      "metadata": {
        "id": "AK5ZwlxIgaHU"
      },
      "source": [
        ""
      ],
      "execution_count": null,
      "outputs": []
    },
    {
      "cell_type": "markdown",
      "metadata": {
        "id": "2CwPPuHdgbwW"
      },
      "source": [
        "# **者佬参数**"
      ]
    },
    {
      "cell_type": "code",
      "metadata": {
        "colab": {
          "base_uri": "https://localhost:8080/"
        },
        "id": "Vpn4gVTrlUlH",
        "outputId": "b8f34e37-21d7-4b78-abce-bcf8dff82985"
      },
      "source": [
        "%shell mkdir -p '/content/Real-ESRGAN/output'"
      ],
      "execution_count": 7,
      "outputs": [
        {
          "output_type": "execute_result",
          "data": {
            "text/plain": [
              ""
            ]
          },
          "metadata": {
            "tags": []
          },
          "execution_count": 7
        }
      ]
    },
    {
      "cell_type": "code",
      "metadata": {
        "id": "FxoP4MsCgSVz"
      },
      "source": [
        "ffmpeg\n",
        "\n",
        "colorprim=bt709:transfer=bt709:colormatrix=bt709\n",
        "\n",
        "-preset:v [ultrafast-placebo] -crf=[-12-51] -pix_fmt [ yuv420p / yuv420p10 ]\n",
        "\n",
        "\n",
        "libx264 8bit\n",
        "\n",
        "ffmpeg -i [.png] -c:v libx264 -preset:v [ultrafast-placebo] -profile:v high -weightb 1 -weightp 2 -mbtree 1 -forced-idr 1 -coder 1 -crf=[-12-51] -x264-params \"keyint=200:min-keyint=1:bframes=6:b-adapt=2:no-open-gop=1:ref=8:deblock='-1:-1':rc-lookahead=50:chroma-qp-offset=-2:aq-mode=1:aq-strength=0.8:qcomp=0.75:me=umh:merange=24:subme=10:psy-rd='1:0.1':colorprim=bt709:transfer=bt709:colormatrix=bt709\" -pix_fmt yuv420p [.mp4]\n",
        "\n",
        "libx264 10bit\n",
        "\n",
        "ffmpeg -i [.png] -c:v libx264 -preset:v [ultrafast-placebo] -profile:v high10 -weightb 1 -weightp 2 -mbtree 1 -forced-idr 1 -coder 1 -crf=[-12-51] -x264-params \"keyint=200:min-keyint=1:bframes=6:b-adapt=2:no-open-gop=1:ref=8:deblock='-1:-1':rc-lookahead=50:chroma-qp-offset=-2:aq-mode=1:aq-strength=0.8:qcomp=0.75:me=umh:merange=24:subme=10:psy-rd='1:0.1':colorprim=bt709:transfer=bt709:colormatrix=bt709\" -pix_fmt yuv420p10 [.mp4]"
      ],
      "execution_count": null,
      "outputs": []
    },
    {
      "cell_type": "code",
      "metadata": {
        "id": "4hA2Xe7VmHNQ"
      },
      "source": [
        "%shell ffmpeg -h encoder=libx264 "
      ],
      "execution_count": null,
      "outputs": []
    },
    {
      "cell_type": "code",
      "metadata": {
        "id": "Fvw7vyoitMGo"
      },
      "source": [
        "#%shell ffmpeg -r {fps} -y -i /content/Real-ESRGAN/frame/%08d.png -c:v libx264 -preset:v faster -profile:v high -weightb 1 -weightp 2 -mbtree 1 -forced-idr 1 -coder 1 -crf 16  -pix_fmt yuv420p /content/Real-ESRGAN/output/output.mkv"
      ],
      "execution_count": null,
      "outputs": []
    },
    {
      "cell_type": "code",
      "metadata": {
        "id": "9D3e8UgBlGeo"
      },
      "source": [
        "#264 8bit\n",
        "%shell ffmpeg -r {fps} -i /content/Real-ESRGAN/frame/%08d.png -c:v libx264 -preset:v faster -profile:v high -weightb 1 -weightp 2 -mbtree 1 -forced-idr 1 -coder 1 -crf 16 -x264-params keyint=200:min-keyint=1:bframes=6:b-adapt=2:no-open-gop=1:ref=8:deblock='-1:-1':rc-lookahead=50:chroma-qp-offset=-2:aq-mode=1:aq-strength=0.8:qcomp=0.75:me=umh:merange=24:subme=10:psy-rd='1:0.1':colorprim=bt709:transfer=bt709:colormatrix=bt709 -pix_fmt yuv420p /content/Real-ESRGAN/output/output.mkv"
      ],
      "execution_count": null,
      "outputs": []
    },
    {
      "cell_type": "code",
      "metadata": {
        "id": "w9f5xdiixXi_"
      },
      "source": [
        "#264 10bit（待修复\n",
        "%shell ffmpeg -r {fps} -i /content/Real-ESRGAN/frame/%08d.png -c:v libx264 -preset:v faster -profile:v high10 -weightb 1 -weightp 2 -mbtree 1 -forced-idr 1 -coder 1 -crf 16 -x264-params keyint=200:min-keyint=1:bframes=6:b-adapt=2:no-open-gop=1:ref=8:deblock='-1:-1':rc-lookahead=50:chroma-qp-offset=-2:aq-mode=1:aq-strength=0.8:qcomp=0.75:me=umh:merange=24:subme=10:psy-rd='1:0.1':colorprim=bt709:transfer=bt709:colormatrix=bt709 -pix_fmt yuv420p10 /content/Real-ESRGAN/output/output.mkv"
      ],
      "execution_count": null,
      "outputs": []
    },
    {
      "cell_type": "code",
      "metadata": {
        "id": "HpPseEeCgVmy"
      },
      "source": [
        "ffmpeg\n",
        "\n",
        "range=limited:colorprim=1:transfer=1:colormatrix=1\n",
        "\n",
        "-preset:v [ultrafast-placebo] crf=[0-51] -pix_fmt [ yuv420p / yuv420p10 ]\n",
        "ultrafast superfast veryfast faster fast medium (default) slow slower veryslow placebo\n",
        "master-display=\"G(15000,30000)B(7500,3000)R(32000,16500)WP(15635,16450)L(10000000,50)\":max-cll=\"1000,100\"\n",
        "\n",
        "\n",
        "libx265 8bit\n",
        "\n",
        "ffmpeg -i [.png] -c:v libx265 -preset:v [ultrafast-placebo] -profile:v main -x265-params \"crf=[0-51]:ref=4:rd=3:no-rect=1:no-amp=1:b-intra=1:rdoq-level=2:limit-tu=4:me=3:subme=5:weightb=1:no-strong-intra-smoothing=1:psy-rd=2.0:psy-rdoq=1.0:no-open-gop=1:keyint=200:min-keyint=1:rc-lookahead=20:bframes=6:aq-mode=1:aq-strength=0.8:qg-size=8:cbqpoffs=-2:crqpoffs=-2:qcomp=0.65:deblock=-1:no-sao=1:range=limited:colorprim=1:transfer=1:colormatrix=1:repeat-headers=1\" -pix_fmt yuv420p [.mp4]\n",
        "\n",
        "libx265 10bit\n",
        "\n",
        "ffmpeg -i [.png] -c:v libx265 -preset:v [ultrafast-placebo] -profile:v main10 -x265-params \"crf=[0-51]:ref=4:rd=3:no-rect=1:no-amp=1:b-intra=1:rdoq-level=2:limit-tu=4:me=3:subme=5:weightb=1:no-strong-intra-smoothing=1:psy-rd=2.0:psy-rdoq=1.0:no-open-gop=1:keyint=200:min-keyint=1:rc-lookahead=20:bframes=6:aq-mode=1:aq-strength=0.8:qg-size=8:cbqpoffs=-2:crqpoffs=-2:qcomp=0.65:deblock=-1:no-sao=1:range=limited:colorprim=1:transfer=1:colormatrix=1:repeat-headers=1\" -pix_fmt yuv420p10 [.mp4]\n",
        "\n",
        "libx265 10bit HDR10+\n",
        "\n",
        "ffmpeg -i [.png] -c:v libx265 -preset:v [ultrafast-placebo] -profile:v main10 -x265-params \"crf=[0-51]:ref=4:rd=3:no-rect=1:no-amp=1:b-intra=1:rdoq-level=2:limit-tu=4:me=3:subme=5:weightb=1:no-strong-intra-smoothing=1:psy-rd=2.0:psy-rdoq=1.0:no-open-gop=1:keyint=200:min-keyint=1:rc-lookahead=20:bframes=6:aq-mode=1:aq-strength=0.8:qg-size=8:cbqpoffs=-2:crqpoffs=-2:qcomp=0.65:deblock=-1:no-sao=1:range=limited:colorprim=9:transfer=16:colormatrix=9:master-display=\"G(15000,30000)B(7500,3000)R(32000,16500)WP(15635,16450)L(10000000,50)\":max-cll=\"1000,100\":hdr10-opt=1:repeat-headers=1\" -pix_fmt yuv420p10 [.mp4]"
      ],
      "execution_count": null,
      "outputs": []
    },
    {
      "cell_type": "code",
      "metadata": {
        "id": "kOmB2zPu8X-X"
      },
      "source": [
        "%shell ffmpeg -h encoder=libx265 "
      ],
      "execution_count": null,
      "outputs": []
    },
    {
      "cell_type": "code",
      "metadata": {
        "id": "p4kxcWiL8Kid",
        "outputId": "3b9fb798-1b10-4cc4-d5a9-7ba93a118352",
        "colab": {
          "base_uri": "https://localhost:8080/",
          "height": 876
        }
      },
      "source": [
        "%shell ffmpeg -y -r {fps} -i /content/Real-ESRGAN/frame/%08d.png -c:v libx265 -preset:v faster -x265-params crf=16:ref=4:rd=3:no-rect=1:no-amp=1:b-intra=1:rdoq-level=2:limit-tu=4:me=3:subme=5:weightb=1:no-strong-intra-smoothing=1:psy-rd=2.0:psy-rdoq=1.0:no-open-gop=1:keyint=200:min-keyint=1:rc-lookahead=20:bframes=6:aq-mode=1:aq-strength=0.8:qg-size=8:cbqpoffs=-2:crqpoffs=-2:qcomp=0.65:deblock=-1:no-sao=1:range=limited:colorprim=1:transfer=1:colormatrix=1:repeat-headers=1 -pix_fmt yuv420p /content/Real-ESRGAN/output/output.mkv"
      ],
      "execution_count": 40,
      "outputs": [
        {
          "output_type": "stream",
          "text": [
            "ffmpeg version 3.4.8-0ubuntu0.2 Copyright (c) 2000-2020 the FFmpeg developers\n",
            "  built with gcc 7 (Ubuntu 7.5.0-3ubuntu1~18.04)\n",
            "  configuration: --prefix=/usr --extra-version=0ubuntu0.2 --toolchain=hardened --libdir=/usr/lib/x86_64-linux-gnu --incdir=/usr/include/x86_64-linux-gnu --enable-gpl --disable-stripping --enable-avresample --enable-avisynth --enable-gnutls --enable-ladspa --enable-libass --enable-libbluray --enable-libbs2b --enable-libcaca --enable-libcdio --enable-libflite --enable-libfontconfig --enable-libfreetype --enable-libfribidi --enable-libgme --enable-libgsm --enable-libmp3lame --enable-libmysofa --enable-libopenjpeg --enable-libopenmpt --enable-libopus --enable-libpulse --enable-librubberband --enable-librsvg --enable-libshine --enable-libsnappy --enable-libsoxr --enable-libspeex --enable-libssh --enable-libtheora --enable-libtwolame --enable-libvorbis --enable-libvpx --enable-libwavpack --enable-libwebp --enable-libx265 --enable-libxml2 --enable-libxvid --enable-libzmq --enable-libzvbi --enable-omx --enable-openal --enable-opengl --enable-sdl2 --enable-libdc1394 --enable-libdrm --enable-libiec61883 --enable-chromaprint --enable-frei0r --enable-libopencv --enable-libx264 --enable-shared\n",
            "  libavutil      55. 78.100 / 55. 78.100\n",
            "  libavcodec     57.107.100 / 57.107.100\n",
            "  libavformat    57. 83.100 / 57. 83.100\n",
            "  libavdevice    57. 10.100 / 57. 10.100\n",
            "  libavfilter     6.107.100 /  6.107.100\n",
            "  libavresample   3.  7.  0 /  3.  7.  0\n",
            "  libswscale      4.  8.100 /  4.  8.100\n",
            "  libswresample   2.  9.100 /  2.  9.100\n",
            "  libpostproc    54.  7.100 / 54.  7.100\n",
            "Input #0, image2, from '/content/Real-ESRGAN/frame/%08d.png':\n",
            "  Duration: 00:01:35.80, start: 0.000000, bitrate: N/A\n",
            "    Stream #0:0: Video: png, rgb24(pc), 1920x1080 [SAR 1:1 DAR 16:9], 25 fps, 25 tbr, 25 tbn, 25 tbc\n",
            "Stream mapping:\n",
            "  Stream #0:0 -> #0:0 (png (native) -> hevc (libx265))\n",
            "Press [q] to stop, [?] for help\n",
            "\u001b[1;36m[libx265 @ 0x5600911dbe00] \u001b[0m\u001b[0;39m[Eval @ 0x7ffea71d96c0] \u001b[0m\u001b[1;31mUndefined constant or missing '(' in 'main'\n",
            "\u001b[0m\u001b[1;36m[libx265 @ 0x5600911dbe00] \u001b[0m\u001b[1;31mUnable to parse option value \"main\"\n",
            "\u001b[0m\u001b[1;36m[libx265 @ 0x5600911dbe00] \u001b[0m\u001b[1;31mError setting option profile to value main.\n",
            "\u001b[0m\u001b[1;31mError initializing output stream 0:0 -- Error while opening encoder for output stream #0:0 - maybe incorrect parameters such as bit_rate, rate, width or height\n",
            "\u001b[0mConversion failed!\n"
          ],
          "name": "stdout"
        },
        {
          "output_type": "error",
          "ename": "CalledProcessError",
          "evalue": "ignored",
          "traceback": [
            "\u001b[0;31m---------------------------------------------------------------------------\u001b[0m",
            "\u001b[0;31mCalledProcessError\u001b[0m                        Traceback (most recent call last)",
            "\u001b[0;32m<ipython-input-40-f50bb77c416c>\u001b[0m in \u001b[0;36m<module>\u001b[0;34m()\u001b[0m\n\u001b[0;32m----> 1\u001b[0;31m \u001b[0mget_ipython\u001b[0m\u001b[0;34m(\u001b[0m\u001b[0;34m)\u001b[0m\u001b[0;34m.\u001b[0m\u001b[0mmagic\u001b[0m\u001b[0;34m(\u001b[0m\u001b[0;34m'shell ffmpeg -y -r {fps} -i /content/Real-ESRGAN/frame/%08d.png -c:v libx265 -preset:v faster -profile:v main -x265-params crf=16:ref=4:rd=3:no-rect=1:no-amp=1:b-intra=1:rdoq-level=2:limit-tu=4:me=3:subme=5:weightb=1:no-strong-intra-smoothing=1:psy-rd=2.0:psy-rdoq=1.0:no-open-gop=1:keyint=200:min-keyint=1:rc-lookahead=20:bframes=6:aq-mode=1:aq-strength=0.8:qg-size=8:cbqpoffs=-2:crqpoffs=-2:qcomp=0.65:deblock=-1:no-sao=1:range=limited:colorprim=1:transfer=1:colormatrix=1:repeat-headers=1 -pix_fmt yuv420p /content/Real-ESRGAN/output/output.mkv'\u001b[0m\u001b[0;34m)\u001b[0m\u001b[0;34m\u001b[0m\u001b[0;34m\u001b[0m\u001b[0m\n\u001b[0m",
            "\u001b[0;32m/usr/local/lib/python3.7/dist-packages/IPython/core/interactiveshell.py\u001b[0m in \u001b[0;36mmagic\u001b[0;34m(self, arg_s)\u001b[0m\n\u001b[1;32m   2158\u001b[0m         \u001b[0mmagic_name\u001b[0m\u001b[0;34m,\u001b[0m \u001b[0m_\u001b[0m\u001b[0;34m,\u001b[0m \u001b[0mmagic_arg_s\u001b[0m \u001b[0;34m=\u001b[0m \u001b[0marg_s\u001b[0m\u001b[0;34m.\u001b[0m\u001b[0mpartition\u001b[0m\u001b[0;34m(\u001b[0m\u001b[0;34m' '\u001b[0m\u001b[0;34m)\u001b[0m\u001b[0;34m\u001b[0m\u001b[0;34m\u001b[0m\u001b[0m\n\u001b[1;32m   2159\u001b[0m         \u001b[0mmagic_name\u001b[0m \u001b[0;34m=\u001b[0m \u001b[0mmagic_name\u001b[0m\u001b[0;34m.\u001b[0m\u001b[0mlstrip\u001b[0m\u001b[0;34m(\u001b[0m\u001b[0mprefilter\u001b[0m\u001b[0;34m.\u001b[0m\u001b[0mESC_MAGIC\u001b[0m\u001b[0;34m)\u001b[0m\u001b[0;34m\u001b[0m\u001b[0;34m\u001b[0m\u001b[0m\n\u001b[0;32m-> 2160\u001b[0;31m         \u001b[0;32mreturn\u001b[0m \u001b[0mself\u001b[0m\u001b[0;34m.\u001b[0m\u001b[0mrun_line_magic\u001b[0m\u001b[0;34m(\u001b[0m\u001b[0mmagic_name\u001b[0m\u001b[0;34m,\u001b[0m \u001b[0mmagic_arg_s\u001b[0m\u001b[0;34m)\u001b[0m\u001b[0;34m\u001b[0m\u001b[0;34m\u001b[0m\u001b[0m\n\u001b[0m\u001b[1;32m   2161\u001b[0m \u001b[0;34m\u001b[0m\u001b[0m\n\u001b[1;32m   2162\u001b[0m     \u001b[0;31m#-------------------------------------------------------------------------\u001b[0m\u001b[0;34m\u001b[0m\u001b[0;34m\u001b[0m\u001b[0;34m\u001b[0m\u001b[0m\n",
            "\u001b[0;32m/usr/local/lib/python3.7/dist-packages/IPython/core/interactiveshell.py\u001b[0m in \u001b[0;36mrun_line_magic\u001b[0;34m(self, magic_name, line)\u001b[0m\n\u001b[1;32m   2079\u001b[0m                 \u001b[0mkwargs\u001b[0m\u001b[0;34m[\u001b[0m\u001b[0;34m'local_ns'\u001b[0m\u001b[0;34m]\u001b[0m \u001b[0;34m=\u001b[0m \u001b[0msys\u001b[0m\u001b[0;34m.\u001b[0m\u001b[0m_getframe\u001b[0m\u001b[0;34m(\u001b[0m\u001b[0mstack_depth\u001b[0m\u001b[0;34m)\u001b[0m\u001b[0;34m.\u001b[0m\u001b[0mf_locals\u001b[0m\u001b[0;34m\u001b[0m\u001b[0;34m\u001b[0m\u001b[0m\n\u001b[1;32m   2080\u001b[0m             \u001b[0;32mwith\u001b[0m \u001b[0mself\u001b[0m\u001b[0;34m.\u001b[0m\u001b[0mbuiltin_trap\u001b[0m\u001b[0;34m:\u001b[0m\u001b[0;34m\u001b[0m\u001b[0;34m\u001b[0m\u001b[0m\n\u001b[0;32m-> 2081\u001b[0;31m                 \u001b[0mresult\u001b[0m \u001b[0;34m=\u001b[0m \u001b[0mfn\u001b[0m\u001b[0;34m(\u001b[0m\u001b[0;34m*\u001b[0m\u001b[0margs\u001b[0m\u001b[0;34m,\u001b[0m\u001b[0;34m**\u001b[0m\u001b[0mkwargs\u001b[0m\u001b[0;34m)\u001b[0m\u001b[0;34m\u001b[0m\u001b[0;34m\u001b[0m\u001b[0m\n\u001b[0m\u001b[1;32m   2082\u001b[0m             \u001b[0;32mreturn\u001b[0m \u001b[0mresult\u001b[0m\u001b[0;34m\u001b[0m\u001b[0;34m\u001b[0m\u001b[0m\n\u001b[1;32m   2083\u001b[0m \u001b[0;34m\u001b[0m\u001b[0m\n",
            "\u001b[0;32m/usr/local/lib/python3.7/dist-packages/google/colab/_system_commands.py\u001b[0m in \u001b[0;36m_shell_line_magic\u001b[0;34m(line)\u001b[0m\n\u001b[1;32m     69\u001b[0m   \"\"\"\n\u001b[1;32m     70\u001b[0m   \u001b[0mresult\u001b[0m \u001b[0;34m=\u001b[0m \u001b[0m_run_command\u001b[0m\u001b[0;34m(\u001b[0m\u001b[0mline\u001b[0m\u001b[0;34m,\u001b[0m \u001b[0mclear_streamed_output\u001b[0m\u001b[0;34m=\u001b[0m\u001b[0;32mFalse\u001b[0m\u001b[0;34m)\u001b[0m\u001b[0;34m\u001b[0m\u001b[0;34m\u001b[0m\u001b[0m\n\u001b[0;32m---> 71\u001b[0;31m   \u001b[0mresult\u001b[0m\u001b[0;34m.\u001b[0m\u001b[0mcheck_returncode\u001b[0m\u001b[0;34m(\u001b[0m\u001b[0;34m)\u001b[0m\u001b[0;34m\u001b[0m\u001b[0;34m\u001b[0m\u001b[0m\n\u001b[0m\u001b[1;32m     72\u001b[0m   \u001b[0;32mreturn\u001b[0m \u001b[0mresult\u001b[0m\u001b[0;34m\u001b[0m\u001b[0;34m\u001b[0m\u001b[0m\n\u001b[1;32m     73\u001b[0m \u001b[0;34m\u001b[0m\u001b[0m\n",
            "\u001b[0;32m/usr/local/lib/python3.7/dist-packages/google/colab/_system_commands.py\u001b[0m in \u001b[0;36mcheck_returncode\u001b[0;34m(self)\u001b[0m\n\u001b[1;32m    137\u001b[0m     \u001b[0;32mif\u001b[0m \u001b[0mself\u001b[0m\u001b[0;34m.\u001b[0m\u001b[0mreturncode\u001b[0m\u001b[0;34m:\u001b[0m\u001b[0;34m\u001b[0m\u001b[0;34m\u001b[0m\u001b[0m\n\u001b[1;32m    138\u001b[0m       raise subprocess.CalledProcessError(\n\u001b[0;32m--> 139\u001b[0;31m           returncode=self.returncode, cmd=self.args, output=self.output)\n\u001b[0m\u001b[1;32m    140\u001b[0m \u001b[0;34m\u001b[0m\u001b[0m\n\u001b[1;32m    141\u001b[0m   \u001b[0;32mdef\u001b[0m \u001b[0m_repr_pretty_\u001b[0m\u001b[0;34m(\u001b[0m\u001b[0mself\u001b[0m\u001b[0;34m,\u001b[0m \u001b[0mp\u001b[0m\u001b[0;34m,\u001b[0m \u001b[0mcycle\u001b[0m\u001b[0;34m)\u001b[0m\u001b[0;34m:\u001b[0m  \u001b[0;31m# pylint:disable=unused-argument\u001b[0m\u001b[0;34m\u001b[0m\u001b[0;34m\u001b[0m\u001b[0m\n",
            "\u001b[0;31mCalledProcessError\u001b[0m: Command 'ffmpeg -y -r 60.0 -i /content/Real-ESRGAN/frame/%08d.png -c:v libx265 -preset:v faster -profile:v main -x265-params crf=16:ref=4:rd=3:no-rect=1:no-amp=1:b-intra=1:rdoq-level=2:limit-tu=4:me=3:subme=5:weightb=1:no-strong-intra-smoothing=1:psy-rd=2.0:psy-rdoq=1.0:no-open-gop=1:keyint=200:min-keyint=1:rc-lookahead=20:bframes=6:aq-mode=1:aq-strength=0.8:qg-size=8:cbqpoffs=-2:crqpoffs=-2:qcomp=0.65:deblock=-1:no-sao=1:range=limited:colorprim=1:transfer=1:colormatrix=1:repeat-headers=1 -pix_fmt yuv420p /content/Real-ESRGAN/output/output.mkv' returned non-zero exit status 1."
          ]
        }
      ]
    },
    {
      "cell_type": "code",
      "metadata": {
        "id": "nWgTDHkLFjOi"
      },
      "source": [
        "ffmpeg -i [.png] -c:v libx265 -preset:v [ultrafast-placebo] -profile:v main10 -x265-params crf=16:ref=4:rd=3:no-rect=1:no-amp=1:b-intra=1:rdoq-level=2:limit-tu=4:me=3:subme=5:weightb=1:no-strong-intra-smoothing=1:psy-rd=2.0:psy-rdoq=1.0:no-open-gop=1:keyint=200:min-keyint=1:rc-lookahead=20:bframes=6:aq-mode=1:aq-strength=0.8:qg-size=8:cbqpoffs=-2:crqpoffs=-2:qcomp=0.65:deblock=-1:no-sao=1:range=limited:colorprim=1:transfer=1:colormatrix=1:repeat-headers=1 -pix_fmt yuv420p10 /content/Real-ESRGAN/output/output.mkv"
      ],
      "execution_count": null,
      "outputs": []
    },
    {
      "cell_type": "code",
      "metadata": {
        "id": "04TWW2E7gN3X"
      },
      "source": [
        "ffmpeg\n",
        "\n",
        "-color_primaries bt709 -color_trc bt709 -colorspace bt709 -color_range tv\n",
        "\n",
        "-preset:v [12-18 (fastest-slowest)] -cq [1-51] -pix_fmt [ yuv420p / p010le ]\n",
        "\n",
        "\n",
        "h264_nvenc 8bit\n",
        "\n",
        "ffmpeg -i [.png] -flags \"cgop\" -g 200 -bf 4 -i_qfactor 0.71 -b_qfactor 1.3 -keyint_min 1 -c:v h264_nvenc -preset:v [12-18 (fastest-slowest)] -tune:v 1 -profile:v 2 -cq [1-51] -rc-lookahead 50 -forced-idr 1 -spatial-aq 1 -temporal-aq 1 -coder 1 -b_ref_mode 2 -color_primaries bt709 -color_trc bt709 -colorspace bt709 -color_range tv -pix_fmt yuv420p 264.mp4\n",
        "\n",
        "hevc_nvenc 8bit\n",
        "\n",
        "ffmpeg -i [.png] -flags \"cgop\" -g 200 -i_qfactor 0.71 -keyint_min 1 -c:v hevc_nvenc -preset:v [12-18 (fastest-slowest)] -tune:v 1 -profile:v 0 -cq [1-51] -rc-lookahead 50 -forced-idr 1 -spatial-aq 1 -color_primaries bt709 -color_trc bt709 -colorspace bt709 -color_range tv -pix_fmt yuv420p 265-8.mp4\n",
        "\n",
        "-bf 0（5代）\n",
        "-bf 0 -weighted_pred 1 （6代）\n",
        "-bf 5 -b_qfactor 1.3 -temporal-aq 1 -b_ref_mode 2 （7代）\n",
        "\n",
        "hevc_nvenc 10bit\n",
        "\n",
        "ffmpeg -i [.png] -flags \"cgop\" -g 200 -i_qfactor 0.71 -keyint_min 1 -c:v hevc_nvenc -preset:v [12-18 (fastest-slowest)] -tune:v 1 -profile:v 1 -cq [1-51] -rc-lookahead 50 -forced-idr 1 -spatial-aq 1 -color_primaries bt709 -color_trc bt709 -colorspace bt709 -color_range tv -pix_fmt p010le 265-10.mp4\n",
        "\n",
        "-bf 0 -weighted_pred 1 （6代）\n",
        "-bf 5 -b_qfactor 1.3 -temporal-aq 1 -b_ref_mode 2 （7代）"
      ],
      "execution_count": null,
      "outputs": []
    },
    {
      "cell_type": "code",
      "metadata": {
        "id": "5wHkmIvGhNrr"
      },
      "source": [
        "%shell ffmpeg -i /content/Real-ESRGAN/frame -flags \"cgop\" -g 200 -bf 4 -i_qfactor 0.71 -b_qfactor 1.3 -keyint_min 1 -c:v h264_nvenc -preset:v [12-18 (fastest-slowest)] -tune:v 1 -profile:v 2 -cq [1-51] -rc-lookahead 50 -forced-idr 1 -spatial-aq 1 -temporal-aq 1 -coder 1 -b_ref_mode 2 -color_primaries bt709 -color_trc bt709 -colorspace bt709 -color_range tv -pix_fmt yuv420p 264.mp4"
      ],
      "execution_count": null,
      "outputs": []
    },
    {
      "cell_type": "code",
      "metadata": {
        "id": "lHNHoP8PZJQ7"
      },
      "source": [
        "# Download the results\n",
        "zip_filename = 'Real-ESRGAN_result.zip'\n",
        "if os.path.exists(zip_filename):\n",
        "  os.remove(zip_filename)\n",
        "os.system(f\"zip -r -j {zip_filename} results/*\")\n",
        "files.download(zip_filename)"
      ],
      "execution_count": null,
      "outputs": []
    },
    {
      "cell_type": "code",
      "metadata": {
        "colab": {
          "base_uri": "https://localhost:8080/",
          "height": 1000
        },
        "id": "jrS2K50yhwxE",
        "outputId": "410d3274-bed1-42db-fb82-b31b72b979b5"
      },
      "source": [
        "%shell ffmpeg -hwaccel_device 0 -y -r 30 -i /content/Real-ESRGAN/frame/%08d.png  -c:v -hwaccel cuvid  /content/Real-ESRGAN/resultsoutput.mkv"
      ],
      "execution_count": 26,
      "outputs": [
        {
          "output_type": "stream",
          "text": [
            "Error in callback <bound method _WandbInit._resume_backend of <wandb.sdk.wandb_init._WandbInit object at 0x7fe91e115350>> (for pre_run_cell):\n"
          ],
          "name": "stdout"
        },
        {
          "output_type": "error",
          "ename": "Exception",
          "evalue": "ignored",
          "traceback": [
            "\u001b[0;31m---------------------------------------------------------------------------\u001b[0m",
            "\u001b[0;31mException\u001b[0m                                 Traceback (most recent call last)",
            "\u001b[0;32m/usr/local/lib/python3.7/dist-packages/wandb/sdk/wandb_init.py\u001b[0m in \u001b[0;36m_resume_backend\u001b[0;34m(self)\u001b[0m\n\u001b[1;32m    259\u001b[0m         \u001b[0;32mif\u001b[0m \u001b[0mself\u001b[0m\u001b[0;34m.\u001b[0m\u001b[0mbackend\u001b[0m \u001b[0;32mis\u001b[0m \u001b[0;32mnot\u001b[0m \u001b[0;32mNone\u001b[0m\u001b[0;34m:\u001b[0m\u001b[0;34m\u001b[0m\u001b[0;34m\u001b[0m\u001b[0m\n\u001b[1;32m    260\u001b[0m             \u001b[0mlogger\u001b[0m\u001b[0;34m.\u001b[0m\u001b[0minfo\u001b[0m\u001b[0;34m(\u001b[0m\u001b[0;34m\"resuming backend\"\u001b[0m\u001b[0;34m)\u001b[0m\u001b[0;34m\u001b[0m\u001b[0;34m\u001b[0m\u001b[0m\n\u001b[0;32m--> 261\u001b[0;31m             \u001b[0mself\u001b[0m\u001b[0;34m.\u001b[0m\u001b[0mbackend\u001b[0m\u001b[0;34m.\u001b[0m\u001b[0minterface\u001b[0m\u001b[0;34m.\u001b[0m\u001b[0mpublish_resume\u001b[0m\u001b[0;34m(\u001b[0m\u001b[0;34m)\u001b[0m\u001b[0;34m\u001b[0m\u001b[0;34m\u001b[0m\u001b[0m\n\u001b[0m\u001b[1;32m    262\u001b[0m \u001b[0;34m\u001b[0m\u001b[0m\n\u001b[1;32m    263\u001b[0m     \u001b[0;32mdef\u001b[0m \u001b[0m_jupyter_teardown\u001b[0m\u001b[0;34m(\u001b[0m\u001b[0mself\u001b[0m\u001b[0;34m)\u001b[0m\u001b[0;34m:\u001b[0m\u001b[0;34m\u001b[0m\u001b[0;34m\u001b[0m\u001b[0m\n",
            "\u001b[0;32m/usr/local/lib/python3.7/dist-packages/wandb/sdk/interface/interface.py\u001b[0m in \u001b[0;36mpublish_resume\u001b[0;34m(self)\u001b[0m\n\u001b[1;32m    602\u001b[0m         \u001b[0mresume\u001b[0m \u001b[0;34m=\u001b[0m \u001b[0mpb\u001b[0m\u001b[0;34m.\u001b[0m\u001b[0mResumeRequest\u001b[0m\u001b[0;34m(\u001b[0m\u001b[0;34m)\u001b[0m\u001b[0;34m\u001b[0m\u001b[0;34m\u001b[0m\u001b[0m\n\u001b[1;32m    603\u001b[0m         \u001b[0mrec\u001b[0m \u001b[0;34m=\u001b[0m \u001b[0mself\u001b[0m\u001b[0;34m.\u001b[0m\u001b[0m_make_request\u001b[0m\u001b[0;34m(\u001b[0m\u001b[0mresume\u001b[0m\u001b[0;34m=\u001b[0m\u001b[0mresume\u001b[0m\u001b[0;34m)\u001b[0m\u001b[0;34m\u001b[0m\u001b[0;34m\u001b[0m\u001b[0m\n\u001b[0;32m--> 604\u001b[0;31m         \u001b[0mself\u001b[0m\u001b[0;34m.\u001b[0m\u001b[0m_publish\u001b[0m\u001b[0;34m(\u001b[0m\u001b[0mrec\u001b[0m\u001b[0;34m)\u001b[0m\u001b[0;34m\u001b[0m\u001b[0;34m\u001b[0m\u001b[0m\n\u001b[0m\u001b[1;32m    605\u001b[0m \u001b[0;34m\u001b[0m\u001b[0m\n\u001b[1;32m    606\u001b[0m     \u001b[0;32mdef\u001b[0m \u001b[0m_publish_run\u001b[0m\u001b[0;34m(\u001b[0m\u001b[0mself\u001b[0m\u001b[0;34m,\u001b[0m \u001b[0mrun\u001b[0m\u001b[0;34m:\u001b[0m \u001b[0mpb\u001b[0m\u001b[0;34m.\u001b[0m\u001b[0mRunRecord\u001b[0m\u001b[0;34m)\u001b[0m \u001b[0;34m->\u001b[0m \u001b[0;32mNone\u001b[0m\u001b[0;34m:\u001b[0m\u001b[0;34m\u001b[0m\u001b[0;34m\u001b[0m\u001b[0m\n",
            "\u001b[0;32m/usr/local/lib/python3.7/dist-packages/wandb/sdk/interface/interface.py\u001b[0m in \u001b[0;36m_publish\u001b[0;34m(self, record, local)\u001b[0m\n\u001b[1;32m    533\u001b[0m     \u001b[0;32mdef\u001b[0m \u001b[0m_publish\u001b[0m\u001b[0;34m(\u001b[0m\u001b[0mself\u001b[0m\u001b[0;34m,\u001b[0m \u001b[0mrecord\u001b[0m\u001b[0;34m:\u001b[0m \u001b[0mpb\u001b[0m\u001b[0;34m.\u001b[0m\u001b[0mRecord\u001b[0m\u001b[0;34m,\u001b[0m \u001b[0mlocal\u001b[0m\u001b[0;34m:\u001b[0m \u001b[0mbool\u001b[0m \u001b[0;34m=\u001b[0m \u001b[0;32mNone\u001b[0m\u001b[0;34m)\u001b[0m \u001b[0;34m->\u001b[0m \u001b[0;32mNone\u001b[0m\u001b[0;34m:\u001b[0m\u001b[0;34m\u001b[0m\u001b[0;34m\u001b[0m\u001b[0m\n\u001b[1;32m    534\u001b[0m         \u001b[0;32mif\u001b[0m \u001b[0mself\u001b[0m\u001b[0;34m.\u001b[0m\u001b[0m_process\u001b[0m \u001b[0;32mand\u001b[0m \u001b[0;32mnot\u001b[0m \u001b[0mself\u001b[0m\u001b[0;34m.\u001b[0m\u001b[0m_process\u001b[0m\u001b[0;34m.\u001b[0m\u001b[0mis_alive\u001b[0m\u001b[0;34m(\u001b[0m\u001b[0;34m)\u001b[0m\u001b[0;34m:\u001b[0m\u001b[0;34m\u001b[0m\u001b[0;34m\u001b[0m\u001b[0m\n\u001b[0;32m--> 535\u001b[0;31m             \u001b[0;32mraise\u001b[0m \u001b[0mException\u001b[0m\u001b[0;34m(\u001b[0m\u001b[0;34m\"The wandb backend process has shutdown\"\u001b[0m\u001b[0;34m)\u001b[0m\u001b[0;34m\u001b[0m\u001b[0;34m\u001b[0m\u001b[0m\n\u001b[0m\u001b[1;32m    536\u001b[0m         \u001b[0;32mif\u001b[0m \u001b[0mlocal\u001b[0m\u001b[0;34m:\u001b[0m\u001b[0;34m\u001b[0m\u001b[0;34m\u001b[0m\u001b[0m\n\u001b[1;32m    537\u001b[0m             \u001b[0mrecord\u001b[0m\u001b[0;34m.\u001b[0m\u001b[0mcontrol\u001b[0m\u001b[0;34m.\u001b[0m\u001b[0mlocal\u001b[0m \u001b[0;34m=\u001b[0m \u001b[0mlocal\u001b[0m\u001b[0;34m\u001b[0m\u001b[0;34m\u001b[0m\u001b[0m\n",
            "\u001b[0;31mException\u001b[0m: The wandb backend process has shutdown"
          ]
        },
        {
          "output_type": "stream",
          "text": [
            "ffmpeg version 3.4.8-0ubuntu0.2 Copyright (c) 2000-2020 the FFmpeg developers\n",
            "  built with gcc 7 (Ubuntu 7.5.0-3ubuntu1~18.04)\n",
            "  configuration: --prefix=/usr --extra-version=0ubuntu0.2 --toolchain=hardened --libdir=/usr/lib/x86_64-linux-gnu --incdir=/usr/include/x86_64-linux-gnu --enable-gpl --disable-stripping --enable-avresample --enable-avisynth --enable-gnutls --enable-ladspa --enable-libass --enable-libbluray --enable-libbs2b --enable-libcaca --enable-libcdio --enable-libflite --enable-libfontconfig --enable-libfreetype --enable-libfribidi --enable-libgme --enable-libgsm --enable-libmp3lame --enable-libmysofa --enable-libopenjpeg --enable-libopenmpt --enable-libopus --enable-libpulse --enable-librubberband --enable-librsvg --enable-libshine --enable-libsnappy --enable-libsoxr --enable-libspeex --enable-libssh --enable-libtheora --enable-libtwolame --enable-libvorbis --enable-libvpx --enable-libwavpack --enable-libwebp --enable-libx265 --enable-libxml2 --enable-libxvid --enable-libzmq --enable-libzvbi --enable-omx --enable-openal --enable-opengl --enable-sdl2 --enable-libdc1394 --enable-libdrm --enable-libiec61883 --enable-chromaprint --enable-frei0r --enable-libopencv --enable-libx264 --enable-shared\n",
            "  libavutil      55. 78.100 / 55. 78.100\n",
            "  libavcodec     57.107.100 / 57.107.100\n",
            "  libavformat    57. 83.100 / 57. 83.100\n",
            "  libavdevice    57. 10.100 / 57. 10.100\n",
            "  libavfilter     6.107.100 /  6.107.100\n",
            "  libavresample   3.  7.  0 /  3.  7.  0\n",
            "  libswscale      4.  8.100 /  4.  8.100\n",
            "  libswresample   2.  9.100 /  2.  9.100\n",
            "  libpostproc    54.  7.100 / 54.  7.100\n",
            "Input #0, image2, from '/content/Real-ESRGAN/frame/%08d.png':\n",
            "  Duration: 00:01:35.80, start: 0.000000, bitrate: N/A\n",
            "    Stream #0:0: Video: png, rgb24(pc), 1920x1080 [SAR 1:1 DAR 16:9], 25 fps, 25 tbr, 25 tbn, 25 tbc\n",
            "Stream mapping:\n",
            "  Stream #0:0 -> #0:0 (png (native) -> h264 (libx264))\n",
            "Press [q] to stop, [?] for help\n",
            "\u001b[1;36m[libx264 @ 0x55b8fb5e7e00] \u001b[0musing SAR=1/1\n",
            "\u001b[1;36m[libx264 @ 0x55b8fb5e7e00] \u001b[0musing cpu capabilities: MMX2 SSE2Fast SSSE3 SSE4.2 AVX FMA3 BMI2 AVX2 AVX512\n",
            "\u001b[1;36m[libx264 @ 0x55b8fb5e7e00] \u001b[0mprofile High 4:4:4 Predictive, level 4.0, 4:4:4 8-bit\n",
            "\u001b[1;36m[libx264 @ 0x55b8fb5e7e00] \u001b[0m264 - core 152 r2854 e9a5903 - H.264/MPEG-4 AVC codec - Copyleft 2003-2017 - http://www.videolan.org/x264.html - options: cabac=1 ref=3 deblock=1:0:0 analyse=0x1:0x111 me=hex subme=7 psy=1 psy_rd=1.00:0.00 mixed_ref=1 me_range=16 chroma_me=1 trellis=1 8x8dct=0 cqm=0 deadzone=21,11 fast_pskip=1 chroma_qp_offset=4 threads=3 lookahead_threads=1 sliced_threads=0 nr=0 decimate=1 interlaced=0 bluray_compat=0 constrained_intra=0 bframes=3 b_pyramid=2 b_adapt=1 b_bias=0 direct=1 weightb=1 open_gop=0 weightp=2 keyint=250 keyint_min=25 scenecut=40 intra_refresh=0 rc_lookahead=40 rc=crf mbtree=1 crf=23.0 qcomp=0.60 qpmin=0 qpmax=69 qpstep=4 ip_ratio=1.40 aq=1:1.00\n",
            "Output #0, matroska, to '/content/Real-ESRGAN/resultsoutput.mkv':\n",
            "  Metadata:\n",
            "    encoder         : Lavf57.83.100\n",
            "    Stream #0:0: Video: h264 (libx264) (H264 / 0x34363248), yuv444p, 1920x1080 [SAR 1:1 DAR 16:9], q=-1--1, 30 fps, 1k tbn, 30 tbc\n",
            "    Metadata:\n",
            "      encoder         : Lavc57.107.100 libx264\n",
            "    Side data:\n",
            "      cpb: bitrate max/min/avg: 0/0/0 buffer size: 0 vbv_delay: -1\n",
            "frame= 2395 fps= 12 q=-1.0 Lsize=   29570kB time=00:01:19.73 bitrate=3038.0kbits/s speed=0.412x    \n",
            "video:29551kB audio:0kB subtitle:0kB other streams:0kB global headers:0kB muxing overhead: 0.061340%\n",
            "\u001b[1;36m[libx264 @ 0x55b8fb5e7e00] \u001b[0mframe I:10    Avg QP:12.93  size: 91494\n",
            "\u001b[1;36m[libx264 @ 0x55b8fb5e7e00] \u001b[0mframe P:1459  Avg QP:20.66  size: 14977\n",
            "\u001b[1;36m[libx264 @ 0x55b8fb5e7e00] \u001b[0mframe B:926   Avg QP:28.28  size:  8093\n",
            "\u001b[1;36m[libx264 @ 0x55b8fb5e7e00] \u001b[0mconsecutive B-frames: 45.2%  7.5%  6.5% 40.8%\n",
            "\u001b[1;36m[libx264 @ 0x55b8fb5e7e00] \u001b[0mmb I  I16..4: 67.3%  0.0% 32.7%\n",
            "\u001b[1;36m[libx264 @ 0x55b8fb5e7e00] \u001b[0mmb P  I16..4:  5.1%  0.0%  5.7%  P16..4:  3.3%  0.7%  0.4%  0.0%  0.0%    skip:84.7%\n",
            "\u001b[1;36m[libx264 @ 0x55b8fb5e7e00] \u001b[0mmb B  I16..4:  0.3%  0.0%  1.7%  B16..8:  6.3%  1.4%  0.7%  direct: 0.2%  skip:89.4%  L0:48.4% L1:47.2% BI: 4.4%\n",
            "\u001b[1;36m[libx264 @ 0x55b8fb5e7e00] \u001b[0mcoded y,u,v intra: 40.7% 22.5% 13.9% inter: 0.9% 0.2% 0.1%\n",
            "\u001b[1;36m[libx264 @ 0x55b8fb5e7e00] \u001b[0mi16 v,h,dc,p: 62% 26%  4%  8%\n",
            "\u001b[1;36m[libx264 @ 0x55b8fb5e7e00] \u001b[0mi4 v,h,dc,ddl,ddr,vr,hd,vl,hu: 22% 17% 21%  8%  7%  7%  7%  6%  6%\n",
            "\u001b[1;36m[libx264 @ 0x55b8fb5e7e00] \u001b[0mWeighted P-Frames: Y:0.1% UV:0.1%\n",
            "\u001b[1;36m[libx264 @ 0x55b8fb5e7e00] \u001b[0mref P L0: 53.0%  6.0% 30.0% 11.0%\n",
            "\u001b[1;36m[libx264 @ 0x55b8fb5e7e00] \u001b[0mref B L0: 82.9% 14.3%  2.8%\n",
            "\u001b[1;36m[libx264 @ 0x55b8fb5e7e00] \u001b[0mref B L1: 94.9%  5.1%\n",
            "\u001b[1;36m[libx264 @ 0x55b8fb5e7e00] \u001b[0mkb/s:3032.32\n"
          ],
          "name": "stdout"
        },
        {
          "output_type": "execute_result",
          "data": {
            "text/plain": [
              ""
            ]
          },
          "metadata": {
            "tags": []
          },
          "execution_count": 26
        },
        {
          "output_type": "stream",
          "text": [
            "Error in callback <bound method _WandbInit._pause_backend of <wandb.sdk.wandb_init._WandbInit object at 0x7fe91e115350>> (for post_run_cell):\n"
          ],
          "name": "stdout"
        },
        {
          "output_type": "error",
          "ename": "Exception",
          "evalue": "ignored",
          "traceback": [
            "\u001b[0;31m---------------------------------------------------------------------------\u001b[0m",
            "\u001b[0;31mException\u001b[0m                                 Traceback (most recent call last)",
            "\u001b[0;32m/usr/local/lib/python3.7/dist-packages/wandb/sdk/wandb_init.py\u001b[0m in \u001b[0;36m_pause_backend\u001b[0;34m(self)\u001b[0m\n\u001b[1;32m    254\u001b[0m                 \u001b[0mres\u001b[0m \u001b[0;34m=\u001b[0m \u001b[0mself\u001b[0m\u001b[0;34m.\u001b[0m\u001b[0mrun\u001b[0m\u001b[0;34m.\u001b[0m\u001b[0mlog_code\u001b[0m\u001b[0;34m(\u001b[0m\u001b[0mroot\u001b[0m\u001b[0;34m=\u001b[0m\u001b[0;32mNone\u001b[0m\u001b[0;34m)\u001b[0m\u001b[0;34m\u001b[0m\u001b[0;34m\u001b[0m\u001b[0m\n\u001b[1;32m    255\u001b[0m                 \u001b[0mlogger\u001b[0m\u001b[0;34m.\u001b[0m\u001b[0minfo\u001b[0m\u001b[0;34m(\u001b[0m\u001b[0;34m\"saved code: %s\"\u001b[0m\u001b[0;34m,\u001b[0m \u001b[0mres\u001b[0m\u001b[0;34m)\u001b[0m\u001b[0;34m\u001b[0m\u001b[0;34m\u001b[0m\u001b[0m\n\u001b[0;32m--> 256\u001b[0;31m             \u001b[0mself\u001b[0m\u001b[0;34m.\u001b[0m\u001b[0mbackend\u001b[0m\u001b[0;34m.\u001b[0m\u001b[0minterface\u001b[0m\u001b[0;34m.\u001b[0m\u001b[0mpublish_pause\u001b[0m\u001b[0;34m(\u001b[0m\u001b[0;34m)\u001b[0m\u001b[0;34m\u001b[0m\u001b[0;34m\u001b[0m\u001b[0m\n\u001b[0m\u001b[1;32m    257\u001b[0m \u001b[0;34m\u001b[0m\u001b[0m\n\u001b[1;32m    258\u001b[0m     \u001b[0;32mdef\u001b[0m \u001b[0m_resume_backend\u001b[0m\u001b[0;34m(\u001b[0m\u001b[0mself\u001b[0m\u001b[0;34m)\u001b[0m\u001b[0;34m:\u001b[0m\u001b[0;34m\u001b[0m\u001b[0;34m\u001b[0m\u001b[0m\n",
            "\u001b[0;32m/usr/local/lib/python3.7/dist-packages/wandb/sdk/interface/interface.py\u001b[0m in \u001b[0;36mpublish_pause\u001b[0;34m(self)\u001b[0m\n\u001b[1;32m    597\u001b[0m         \u001b[0mpause\u001b[0m \u001b[0;34m=\u001b[0m \u001b[0mpb\u001b[0m\u001b[0;34m.\u001b[0m\u001b[0mPauseRequest\u001b[0m\u001b[0;34m(\u001b[0m\u001b[0;34m)\u001b[0m\u001b[0;34m\u001b[0m\u001b[0;34m\u001b[0m\u001b[0m\n\u001b[1;32m    598\u001b[0m         \u001b[0mrec\u001b[0m \u001b[0;34m=\u001b[0m \u001b[0mself\u001b[0m\u001b[0;34m.\u001b[0m\u001b[0m_make_request\u001b[0m\u001b[0;34m(\u001b[0m\u001b[0mpause\u001b[0m\u001b[0;34m=\u001b[0m\u001b[0mpause\u001b[0m\u001b[0;34m)\u001b[0m\u001b[0;34m\u001b[0m\u001b[0;34m\u001b[0m\u001b[0m\n\u001b[0;32m--> 599\u001b[0;31m         \u001b[0mself\u001b[0m\u001b[0;34m.\u001b[0m\u001b[0m_publish\u001b[0m\u001b[0;34m(\u001b[0m\u001b[0mrec\u001b[0m\u001b[0;34m)\u001b[0m\u001b[0;34m\u001b[0m\u001b[0;34m\u001b[0m\u001b[0m\n\u001b[0m\u001b[1;32m    600\u001b[0m \u001b[0;34m\u001b[0m\u001b[0m\n\u001b[1;32m    601\u001b[0m     \u001b[0;32mdef\u001b[0m \u001b[0mpublish_resume\u001b[0m\u001b[0;34m(\u001b[0m\u001b[0mself\u001b[0m\u001b[0;34m)\u001b[0m \u001b[0;34m->\u001b[0m \u001b[0;32mNone\u001b[0m\u001b[0;34m:\u001b[0m\u001b[0;34m\u001b[0m\u001b[0;34m\u001b[0m\u001b[0m\n",
            "\u001b[0;32m/usr/local/lib/python3.7/dist-packages/wandb/sdk/interface/interface.py\u001b[0m in \u001b[0;36m_publish\u001b[0;34m(self, record, local)\u001b[0m\n\u001b[1;32m    533\u001b[0m     \u001b[0;32mdef\u001b[0m \u001b[0m_publish\u001b[0m\u001b[0;34m(\u001b[0m\u001b[0mself\u001b[0m\u001b[0;34m,\u001b[0m \u001b[0mrecord\u001b[0m\u001b[0;34m:\u001b[0m \u001b[0mpb\u001b[0m\u001b[0;34m.\u001b[0m\u001b[0mRecord\u001b[0m\u001b[0;34m,\u001b[0m \u001b[0mlocal\u001b[0m\u001b[0;34m:\u001b[0m \u001b[0mbool\u001b[0m \u001b[0;34m=\u001b[0m \u001b[0;32mNone\u001b[0m\u001b[0;34m)\u001b[0m \u001b[0;34m->\u001b[0m \u001b[0;32mNone\u001b[0m\u001b[0;34m:\u001b[0m\u001b[0;34m\u001b[0m\u001b[0;34m\u001b[0m\u001b[0m\n\u001b[1;32m    534\u001b[0m         \u001b[0;32mif\u001b[0m \u001b[0mself\u001b[0m\u001b[0;34m.\u001b[0m\u001b[0m_process\u001b[0m \u001b[0;32mand\u001b[0m \u001b[0;32mnot\u001b[0m \u001b[0mself\u001b[0m\u001b[0;34m.\u001b[0m\u001b[0m_process\u001b[0m\u001b[0;34m.\u001b[0m\u001b[0mis_alive\u001b[0m\u001b[0;34m(\u001b[0m\u001b[0;34m)\u001b[0m\u001b[0;34m:\u001b[0m\u001b[0;34m\u001b[0m\u001b[0;34m\u001b[0m\u001b[0m\n\u001b[0;32m--> 535\u001b[0;31m             \u001b[0;32mraise\u001b[0m \u001b[0mException\u001b[0m\u001b[0;34m(\u001b[0m\u001b[0;34m\"The wandb backend process has shutdown\"\u001b[0m\u001b[0;34m)\u001b[0m\u001b[0;34m\u001b[0m\u001b[0;34m\u001b[0m\u001b[0m\n\u001b[0m\u001b[1;32m    536\u001b[0m         \u001b[0;32mif\u001b[0m \u001b[0mlocal\u001b[0m\u001b[0;34m:\u001b[0m\u001b[0;34m\u001b[0m\u001b[0;34m\u001b[0m\u001b[0m\n\u001b[1;32m    537\u001b[0m             \u001b[0mrecord\u001b[0m\u001b[0;34m.\u001b[0m\u001b[0mcontrol\u001b[0m\u001b[0;34m.\u001b[0m\u001b[0mlocal\u001b[0m \u001b[0;34m=\u001b[0m \u001b[0mlocal\u001b[0m\u001b[0;34m\u001b[0m\u001b[0;34m\u001b[0m\u001b[0m\n",
            "\u001b[0;31mException\u001b[0m: The wandb backend process has shutdown"
          ]
        }
      ]
    }
  ]
}